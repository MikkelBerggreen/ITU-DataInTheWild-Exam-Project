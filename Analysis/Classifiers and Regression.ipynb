{
 "cells": [
  {
   "cell_type": "code",
   "execution_count": 2,
   "metadata": {},
   "outputs": [
    {
     "name": "stderr",
     "output_type": "stream",
     "text": [
      "/home/julius/anaconda3/lib/python3.7/site-packages/statsmodels/tools/_testing.py:19: FutureWarning: pandas.util.testing is deprecated. Use the functions in the public API at pandas.testing instead.\n",
      "  import pandas.util.testing as tm\n"
     ]
    }
   ],
   "source": [
    "import pandas as pd\n",
    "import numpy as np\n",
    "import json\n",
    "import seaborn as sns\n",
    "import matplotlib.pyplot as plt"
   ]
  },
  {
   "cell_type": "markdown",
   "metadata": {},
   "source": [
    "## Parsing and cleaning"
   ]
  },
  {
   "cell_type": "code",
   "execution_count": 3,
   "metadata": {},
   "outputs": [],
   "source": [
    "with open('data_v4.json', encoding=\"utf-8\") as json_file:\n",
    "    data = json.load(json_file)\n",
    "df = pd.json_normalize(data)"
   ]
  },
  {
   "cell_type": "code",
   "execution_count": 4,
   "metadata": {},
   "outputs": [
    {
     "data": {
      "text/plain": [
       "Name                               object\n",
       "CVR                                object\n",
       "BusinessAddress                    object\n",
       "StartDate                          object\n",
       "Status                             object\n",
       "IndustryCode                       object\n",
       "IndustryName                       object\n",
       "Area                               object\n",
       "AreaCode                           object\n",
       "NumEmployees                       object\n",
       "DirectorName                       object\n",
       "DirectorAddress                    object\n",
       "DirectorId                         object\n",
       "RegisteredCapital                 float64\n",
       "RegisteredCapitalCurrency          object\n",
       "NumPeople                         float64\n",
       "NumCars                           float64\n",
       "DistanceToBusinessMeters          float64\n",
       "DistanceToBusinessDriveSeconds    float64\n",
       "DirectorAddressLatitude           float64\n",
       "DirectorAddressLongitude          float64\n",
       "BusinessAddressLatitude           float64\n",
       "BusinessAddressLongitude          float64\n",
       "dtype: object"
      ]
     },
     "execution_count": 4,
     "metadata": {},
     "output_type": "execute_result"
    }
   ],
   "source": [
    "df.dtypes"
   ]
  },
  {
   "cell_type": "code",
   "execution_count": 5,
   "metadata": {},
   "outputs": [
    {
     "name": "stdout",
     "output_type": "stream",
     "text": [
      "Name                                0\n",
      "CVR                                 0\n",
      "BusinessAddress                     0\n",
      "StartDate                           0\n",
      "Status                              0\n",
      "IndustryCode                        0\n",
      "IndustryName                        0\n",
      "Area                                0\n",
      "AreaCode                            0\n",
      "NumEmployees                        0\n",
      "DirectorName                        0\n",
      "DirectorAddress                    72\n",
      "DirectorId                          0\n",
      "RegisteredCapital                   0\n",
      "RegisteredCapitalCurrency           0\n",
      "NumPeople                          73\n",
      "NumCars                            73\n",
      "DistanceToBusinessMeters          191\n",
      "DistanceToBusinessDriveSeconds    191\n",
      "DirectorAddressLatitude            72\n",
      "DirectorAddressLongitude           72\n",
      "BusinessAddressLatitude            95\n",
      "BusinessAddressLongitude           95\n",
      "dtype: int64\n"
     ]
    }
   ],
   "source": [
    "nan_count = df.isna().sum()\n",
    "\n",
    "print(nan_count)"
   ]
  },
  {
   "cell_type": "code",
   "execution_count": 6,
   "metadata": {},
   "outputs": [
    {
     "data": {
      "text/html": [
       "<div>\n",
       "<style scoped>\n",
       "    .dataframe tbody tr th:only-of-type {\n",
       "        vertical-align: middle;\n",
       "    }\n",
       "\n",
       "    .dataframe tbody tr th {\n",
       "        vertical-align: top;\n",
       "    }\n",
       "\n",
       "    .dataframe thead th {\n",
       "        text-align: right;\n",
       "    }\n",
       "</style>\n",
       "<table border=\"1\" class=\"dataframe\">\n",
       "  <thead>\n",
       "    <tr style=\"text-align: right;\">\n",
       "      <th></th>\n",
       "      <th>Name</th>\n",
       "      <th>CVR</th>\n",
       "      <th>BusinessAddress</th>\n",
       "      <th>StartDate</th>\n",
       "      <th>Status</th>\n",
       "      <th>IndustryCode</th>\n",
       "      <th>IndustryName</th>\n",
       "      <th>Area</th>\n",
       "      <th>AreaCode</th>\n",
       "      <th>NumEmployees</th>\n",
       "      <th>...</th>\n",
       "      <th>RegisteredCapital</th>\n",
       "      <th>RegisteredCapitalCurrency</th>\n",
       "      <th>NumPeople</th>\n",
       "      <th>NumCars</th>\n",
       "      <th>DistanceToBusinessMeters</th>\n",
       "      <th>DistanceToBusinessDriveSeconds</th>\n",
       "      <th>DirectorAddressLatitude</th>\n",
       "      <th>DirectorAddressLongitude</th>\n",
       "      <th>BusinessAddressLatitude</th>\n",
       "      <th>BusinessAddressLongitude</th>\n",
       "    </tr>\n",
       "  </thead>\n",
       "  <tbody>\n",
       "    <tr>\n",
       "      <th>0</th>\n",
       "      <td>POULSEN &amp; HANSEN A/S</td>\n",
       "      <td>76958211</td>\n",
       "      <td>C/O Flethøj Ejendomsadministration ApS, Energi...</td>\n",
       "      <td>1985-01-17</td>\n",
       "      <td>NORMAL</td>\n",
       "      <td>682040</td>\n",
       "      <td>Udlejning af erhvervsejendomme</td>\n",
       "      <td>København</td>\n",
       "      <td>101</td>\n",
       "      <td>6</td>\n",
       "      <td>...</td>\n",
       "      <td>500000.0</td>\n",
       "      <td>DKK</td>\n",
       "      <td>1.0</td>\n",
       "      <td>6.0</td>\n",
       "      <td>3237.0</td>\n",
       "      <td>606.0</td>\n",
       "      <td>55.671052</td>\n",
       "      <td>12.561257</td>\n",
       "      <td>55.657727</td>\n",
       "      <td>12.557978</td>\n",
       "    </tr>\n",
       "    <tr>\n",
       "      <th>1</th>\n",
       "      <td>SWEDISH ORPHAN BIOVITRUM A/S</td>\n",
       "      <td>19179079</td>\n",
       "      <td>Sorgenfrivej 17</td>\n",
       "      <td>1996-02-08</td>\n",
       "      <td>NORMAL</td>\n",
       "      <td>464610</td>\n",
       "      <td>Engroshandel med medicinalvarer og sygeplejear...</td>\n",
       "      <td>Lyngby-Taarbæk</td>\n",
       "      <td>173</td>\n",
       "      <td>11</td>\n",
       "      <td>...</td>\n",
       "      <td>500000.0</td>\n",
       "      <td>DKK</td>\n",
       "      <td>1.0</td>\n",
       "      <td>0.0</td>\n",
       "      <td>696252.0</td>\n",
       "      <td>35422.0</td>\n",
       "      <td>59.260329</td>\n",
       "      <td>18.194250</td>\n",
       "      <td>55.137627</td>\n",
       "      <td>14.758286</td>\n",
       "    </tr>\n",
       "    <tr>\n",
       "      <th>2</th>\n",
       "      <td>Oticon Denmark A/S</td>\n",
       "      <td>42338028</td>\n",
       "      <td>Kongebakken 9</td>\n",
       "      <td>1972-05-26</td>\n",
       "      <td>NORMAL</td>\n",
       "      <td>465220</td>\n",
       "      <td>Engroshandel med telekommunikationsudstyr</td>\n",
       "      <td>Egedal</td>\n",
       "      <td>240</td>\n",
       "      <td>61</td>\n",
       "      <td>...</td>\n",
       "      <td>1000000.0</td>\n",
       "      <td>DKK</td>\n",
       "      <td>0.0</td>\n",
       "      <td>6.0</td>\n",
       "      <td>383203.0</td>\n",
       "      <td>18336.0</td>\n",
       "      <td>55.762723</td>\n",
       "      <td>12.549633</td>\n",
       "      <td>57.486851</td>\n",
       "      <td>10.337708</td>\n",
       "    </tr>\n",
       "    <tr>\n",
       "      <th>3</th>\n",
       "      <td>BADEN-JENSEN A/S</td>\n",
       "      <td>29167613</td>\n",
       "      <td>Baltorpbakken 16</td>\n",
       "      <td>1970-02-19</td>\n",
       "      <td>NORMAL</td>\n",
       "      <td>467320</td>\n",
       "      <td>Engroshandel med lak, maling, tapet, gulvbelæg...</td>\n",
       "      <td>Ballerup</td>\n",
       "      <td>151</td>\n",
       "      <td>37</td>\n",
       "      <td>...</td>\n",
       "      <td>3600000.0</td>\n",
       "      <td>DKK</td>\n",
       "      <td>0.0</td>\n",
       "      <td>0.0</td>\n",
       "      <td>30477.0</td>\n",
       "      <td>1455.0</td>\n",
       "      <td>55.816496</td>\n",
       "      <td>12.544167</td>\n",
       "      <td>55.731771</td>\n",
       "      <td>12.338362</td>\n",
       "    </tr>\n",
       "    <tr>\n",
       "      <th>4</th>\n",
       "      <td>REITAN CONVENIENCE DENMARK A/S</td>\n",
       "      <td>15516046</td>\n",
       "      <td>Buddingevej 195</td>\n",
       "      <td>1991-10-01</td>\n",
       "      <td>NORMAL</td>\n",
       "      <td>829900</td>\n",
       "      <td>Anden forretningsservice i.a.n.</td>\n",
       "      <td>Gladsaxe</td>\n",
       "      <td>159</td>\n",
       "      <td>63</td>\n",
       "      <td>...</td>\n",
       "      <td>7000000.0</td>\n",
       "      <td>DKK</td>\n",
       "      <td>NaN</td>\n",
       "      <td>NaN</td>\n",
       "      <td>NaN</td>\n",
       "      <td>NaN</td>\n",
       "      <td>NaN</td>\n",
       "      <td>NaN</td>\n",
       "      <td>55.751531</td>\n",
       "      <td>12.496268</td>\n",
       "    </tr>\n",
       "    <tr>\n",
       "      <th>...</th>\n",
       "      <td>...</td>\n",
       "      <td>...</td>\n",
       "      <td>...</td>\n",
       "      <td>...</td>\n",
       "      <td>...</td>\n",
       "      <td>...</td>\n",
       "      <td>...</td>\n",
       "      <td>...</td>\n",
       "      <td>...</td>\n",
       "      <td>...</td>\n",
       "      <td>...</td>\n",
       "      <td>...</td>\n",
       "      <td>...</td>\n",
       "      <td>...</td>\n",
       "      <td>...</td>\n",
       "      <td>...</td>\n",
       "      <td>...</td>\n",
       "      <td>...</td>\n",
       "      <td>...</td>\n",
       "      <td>...</td>\n",
       "      <td>...</td>\n",
       "    </tr>\n",
       "    <tr>\n",
       "      <th>2694</th>\n",
       "      <td>a-round ApS</td>\n",
       "      <td>36082577</td>\n",
       "      <td>Kronborg 10B</td>\n",
       "      <td>2014-08-30</td>\n",
       "      <td>NORMAL</td>\n",
       "      <td>620100</td>\n",
       "      <td>Computerprogrammering</td>\n",
       "      <td>Helsingør</td>\n",
       "      <td>217</td>\n",
       "      <td>12</td>\n",
       "      <td>...</td>\n",
       "      <td>50000.0</td>\n",
       "      <td>DKK</td>\n",
       "      <td>0.0</td>\n",
       "      <td>0.0</td>\n",
       "      <td>1434.0</td>\n",
       "      <td>240.0</td>\n",
       "      <td>56.030743</td>\n",
       "      <td>12.602363</td>\n",
       "      <td>56.039332</td>\n",
       "      <td>12.621799</td>\n",
       "    </tr>\n",
       "    <tr>\n",
       "      <th>2695</th>\n",
       "      <td>A-STORM ApS</td>\n",
       "      <td>35856803</td>\n",
       "      <td>Naverland 31, 1.</td>\n",
       "      <td>2014-05-20</td>\n",
       "      <td>NORMAL</td>\n",
       "      <td>433900</td>\n",
       "      <td>Anden bygningsfærdiggørelse</td>\n",
       "      <td>Albertslund</td>\n",
       "      <td>165</td>\n",
       "      <td>2</td>\n",
       "      <td>...</td>\n",
       "      <td>50000.0</td>\n",
       "      <td>DKK</td>\n",
       "      <td>NaN</td>\n",
       "      <td>NaN</td>\n",
       "      <td>NaN</td>\n",
       "      <td>NaN</td>\n",
       "      <td>NaN</td>\n",
       "      <td>NaN</td>\n",
       "      <td>55.678331</td>\n",
       "      <td>12.374039</td>\n",
       "    </tr>\n",
       "    <tr>\n",
       "      <th>2696</th>\n",
       "      <td>A KASSEN ApS</td>\n",
       "      <td>35630635</td>\n",
       "      <td>Birkedommervej 29, 2.</td>\n",
       "      <td>2014-01-06</td>\n",
       "      <td>NORMAL</td>\n",
       "      <td>900300</td>\n",
       "      <td>Kunstnerisk skaben</td>\n",
       "      <td>København</td>\n",
       "      <td>101</td>\n",
       "      <td>4</td>\n",
       "      <td>...</td>\n",
       "      <td>50000.0</td>\n",
       "      <td>DKK</td>\n",
       "      <td>0.0</td>\n",
       "      <td>18.0</td>\n",
       "      <td>3712.0</td>\n",
       "      <td>698.0</td>\n",
       "      <td>55.687047</td>\n",
       "      <td>12.530250</td>\n",
       "      <td>55.708563</td>\n",
       "      <td>12.527957</td>\n",
       "    </tr>\n",
       "    <tr>\n",
       "      <th>2697</th>\n",
       "      <td>S.A.A. ApS</td>\n",
       "      <td>36046090</td>\n",
       "      <td>Valby Langgade 74</td>\n",
       "      <td>2014-07-15</td>\n",
       "      <td>NORMAL</td>\n",
       "      <td>563000</td>\n",
       "      <td>Cafeér, værtshuse, diskoteker mv.</td>\n",
       "      <td>København</td>\n",
       "      <td>101</td>\n",
       "      <td>1</td>\n",
       "      <td>...</td>\n",
       "      <td>50000.0</td>\n",
       "      <td>DKK</td>\n",
       "      <td>0.0</td>\n",
       "      <td>14.0</td>\n",
       "      <td>11.0</td>\n",
       "      <td>2.0</td>\n",
       "      <td>55.666129</td>\n",
       "      <td>12.512267</td>\n",
       "      <td>55.666147</td>\n",
       "      <td>12.512441</td>\n",
       "    </tr>\n",
       "    <tr>\n",
       "      <th>2698</th>\n",
       "      <td>ALLE OPTIK ApS</td>\n",
       "      <td>51851617</td>\n",
       "      <td>Jægersborg Alle 25</td>\n",
       "      <td>1975-06-01</td>\n",
       "      <td>NORMAL</td>\n",
       "      <td>477810</td>\n",
       "      <td>Optikere</td>\n",
       "      <td>Gentofte</td>\n",
       "      <td>157</td>\n",
       "      <td>10</td>\n",
       "      <td>...</td>\n",
       "      <td>128000.0</td>\n",
       "      <td>DKK</td>\n",
       "      <td>0.0</td>\n",
       "      <td>20.0</td>\n",
       "      <td>11108.0</td>\n",
       "      <td>1356.0</td>\n",
       "      <td>55.676637</td>\n",
       "      <td>12.550706</td>\n",
       "      <td>55.754243</td>\n",
       "      <td>12.569030</td>\n",
       "    </tr>\n",
       "  </tbody>\n",
       "</table>\n",
       "<p>2699 rows × 23 columns</p>\n",
       "</div>"
      ],
      "text/plain": [
       "                                Name       CVR  \\\n",
       "0               POULSEN & HANSEN A/S  76958211   \n",
       "1       SWEDISH ORPHAN BIOVITRUM A/S  19179079   \n",
       "2                 Oticon Denmark A/S  42338028   \n",
       "3                   BADEN-JENSEN A/S  29167613   \n",
       "4     REITAN CONVENIENCE DENMARK A/S  15516046   \n",
       "...                              ...       ...   \n",
       "2694                     a-round ApS  36082577   \n",
       "2695                     A-STORM ApS  35856803   \n",
       "2696                    A KASSEN ApS  35630635   \n",
       "2697                      S.A.A. ApS  36046090   \n",
       "2698                  ALLE OPTIK ApS  51851617   \n",
       "\n",
       "                                        BusinessAddress   StartDate  Status  \\\n",
       "0     C/O Flethøj Ejendomsadministration ApS, Energi...  1985-01-17  NORMAL   \n",
       "1                                       Sorgenfrivej 17  1996-02-08  NORMAL   \n",
       "2                                         Kongebakken 9  1972-05-26  NORMAL   \n",
       "3                                      Baltorpbakken 16  1970-02-19  NORMAL   \n",
       "4                                       Buddingevej 195  1991-10-01  NORMAL   \n",
       "...                                                 ...         ...     ...   \n",
       "2694                                       Kronborg 10B  2014-08-30  NORMAL   \n",
       "2695                                   Naverland 31, 1.  2014-05-20  NORMAL   \n",
       "2696                              Birkedommervej 29, 2.  2014-01-06  NORMAL   \n",
       "2697                                  Valby Langgade 74  2014-07-15  NORMAL   \n",
       "2698                                 Jægersborg Alle 25  1975-06-01  NORMAL   \n",
       "\n",
       "     IndustryCode                                       IndustryName  \\\n",
       "0          682040                     Udlejning af erhvervsejendomme   \n",
       "1          464610  Engroshandel med medicinalvarer og sygeplejear...   \n",
       "2          465220          Engroshandel med telekommunikationsudstyr   \n",
       "3          467320  Engroshandel med lak, maling, tapet, gulvbelæg...   \n",
       "4          829900                    Anden forretningsservice i.a.n.   \n",
       "...           ...                                                ...   \n",
       "2694       620100                              Computerprogrammering   \n",
       "2695       433900                        Anden bygningsfærdiggørelse   \n",
       "2696       900300                                 Kunstnerisk skaben   \n",
       "2697       563000                  Cafeér, værtshuse, diskoteker mv.   \n",
       "2698       477810                                           Optikere   \n",
       "\n",
       "                Area AreaCode NumEmployees  ... RegisteredCapital  \\\n",
       "0          København      101            6  ...          500000.0   \n",
       "1     Lyngby-Taarbæk      173           11  ...          500000.0   \n",
       "2             Egedal      240           61  ...         1000000.0   \n",
       "3           Ballerup      151           37  ...         3600000.0   \n",
       "4           Gladsaxe      159           63  ...         7000000.0   \n",
       "...              ...      ...          ...  ...               ...   \n",
       "2694       Helsingør      217           12  ...           50000.0   \n",
       "2695     Albertslund      165            2  ...           50000.0   \n",
       "2696       København      101            4  ...           50000.0   \n",
       "2697       København      101            1  ...           50000.0   \n",
       "2698        Gentofte      157           10  ...          128000.0   \n",
       "\n",
       "     RegisteredCapitalCurrency NumPeople  NumCars DistanceToBusinessMeters  \\\n",
       "0                          DKK       1.0      6.0                   3237.0   \n",
       "1                          DKK       1.0      0.0                 696252.0   \n",
       "2                          DKK       0.0      6.0                 383203.0   \n",
       "3                          DKK       0.0      0.0                  30477.0   \n",
       "4                          DKK       NaN      NaN                      NaN   \n",
       "...                        ...       ...      ...                      ...   \n",
       "2694                       DKK       0.0      0.0                   1434.0   \n",
       "2695                       DKK       NaN      NaN                      NaN   \n",
       "2696                       DKK       0.0     18.0                   3712.0   \n",
       "2697                       DKK       0.0     14.0                     11.0   \n",
       "2698                       DKK       0.0     20.0                  11108.0   \n",
       "\n",
       "      DistanceToBusinessDriveSeconds  DirectorAddressLatitude  \\\n",
       "0                              606.0                55.671052   \n",
       "1                            35422.0                59.260329   \n",
       "2                            18336.0                55.762723   \n",
       "3                             1455.0                55.816496   \n",
       "4                                NaN                      NaN   \n",
       "...                              ...                      ...   \n",
       "2694                           240.0                56.030743   \n",
       "2695                             NaN                      NaN   \n",
       "2696                           698.0                55.687047   \n",
       "2697                             2.0                55.666129   \n",
       "2698                          1356.0                55.676637   \n",
       "\n",
       "      DirectorAddressLongitude   BusinessAddressLatitude  \\\n",
       "0                     12.561257                55.657727   \n",
       "1                     18.194250                55.137627   \n",
       "2                     12.549633                57.486851   \n",
       "3                     12.544167                55.731771   \n",
       "4                           NaN                55.751531   \n",
       "...                         ...                      ...   \n",
       "2694                  12.602363                56.039332   \n",
       "2695                        NaN                55.678331   \n",
       "2696                  12.530250                55.708563   \n",
       "2697                  12.512267                55.666147   \n",
       "2698                  12.550706                55.754243   \n",
       "\n",
       "      BusinessAddressLongitude  \n",
       "0                    12.557978  \n",
       "1                    14.758286  \n",
       "2                    10.337708  \n",
       "3                    12.338362  \n",
       "4                    12.496268  \n",
       "...                        ...  \n",
       "2694                 12.621799  \n",
       "2695                 12.374039  \n",
       "2696                 12.527957  \n",
       "2697                 12.512441  \n",
       "2698                 12.569030  \n",
       "\n",
       "[2699 rows x 23 columns]"
      ]
     },
     "execution_count": 6,
     "metadata": {},
     "output_type": "execute_result"
    }
   ],
   "source": [
    "df"
   ]
  },
  {
   "cell_type": "code",
   "execution_count": 7,
   "metadata": {},
   "outputs": [
    {
     "data": {
      "text/plain": [
       "33865819054.35"
      ]
     },
     "execution_count": 7,
     "metadata": {},
     "output_type": "execute_result"
    }
   ],
   "source": [
    "df[\"RegisteredCapital\"].sum()"
   ]
  },
  {
   "cell_type": "code",
   "execution_count": 8,
   "metadata": {},
   "outputs": [
    {
     "data": {
      "text/html": [
       "<div>\n",
       "<style scoped>\n",
       "    .dataframe tbody tr th:only-of-type {\n",
       "        vertical-align: middle;\n",
       "    }\n",
       "\n",
       "    .dataframe tbody tr th {\n",
       "        vertical-align: top;\n",
       "    }\n",
       "\n",
       "    .dataframe thead th {\n",
       "        text-align: right;\n",
       "    }\n",
       "</style>\n",
       "<table border=\"1\" class=\"dataframe\">\n",
       "  <thead>\n",
       "    <tr style=\"text-align: right;\">\n",
       "      <th></th>\n",
       "      <th>NumEmployees</th>\n",
       "      <th>RegisteredCapital</th>\n",
       "      <th>NumPeople</th>\n",
       "      <th>NumCars</th>\n",
       "      <th>DistanceToBusinessMeters</th>\n",
       "      <th>DistanceToBusinessDriveSeconds</th>\n",
       "    </tr>\n",
       "  </thead>\n",
       "  <tbody>\n",
       "    <tr>\n",
       "      <th>0</th>\n",
       "      <td>6</td>\n",
       "      <td>500000.0</td>\n",
       "      <td>1.0</td>\n",
       "      <td>6.0</td>\n",
       "      <td>3237.0</td>\n",
       "      <td>606.0</td>\n",
       "    </tr>\n",
       "    <tr>\n",
       "      <th>1</th>\n",
       "      <td>11</td>\n",
       "      <td>500000.0</td>\n",
       "      <td>1.0</td>\n",
       "      <td>0.0</td>\n",
       "      <td>696252.0</td>\n",
       "      <td>35422.0</td>\n",
       "    </tr>\n",
       "    <tr>\n",
       "      <th>2</th>\n",
       "      <td>61</td>\n",
       "      <td>1000000.0</td>\n",
       "      <td>0.0</td>\n",
       "      <td>6.0</td>\n",
       "      <td>383203.0</td>\n",
       "      <td>18336.0</td>\n",
       "    </tr>\n",
       "    <tr>\n",
       "      <th>3</th>\n",
       "      <td>37</td>\n",
       "      <td>3600000.0</td>\n",
       "      <td>0.0</td>\n",
       "      <td>0.0</td>\n",
       "      <td>30477.0</td>\n",
       "      <td>1455.0</td>\n",
       "    </tr>\n",
       "    <tr>\n",
       "      <th>4</th>\n",
       "      <td>63</td>\n",
       "      <td>7000000.0</td>\n",
       "      <td>NaN</td>\n",
       "      <td>NaN</td>\n",
       "      <td>NaN</td>\n",
       "      <td>NaN</td>\n",
       "    </tr>\n",
       "    <tr>\n",
       "      <th>...</th>\n",
       "      <td>...</td>\n",
       "      <td>...</td>\n",
       "      <td>...</td>\n",
       "      <td>...</td>\n",
       "      <td>...</td>\n",
       "      <td>...</td>\n",
       "    </tr>\n",
       "    <tr>\n",
       "      <th>2694</th>\n",
       "      <td>12</td>\n",
       "      <td>50000.0</td>\n",
       "      <td>0.0</td>\n",
       "      <td>0.0</td>\n",
       "      <td>1434.0</td>\n",
       "      <td>240.0</td>\n",
       "    </tr>\n",
       "    <tr>\n",
       "      <th>2695</th>\n",
       "      <td>2</td>\n",
       "      <td>50000.0</td>\n",
       "      <td>NaN</td>\n",
       "      <td>NaN</td>\n",
       "      <td>NaN</td>\n",
       "      <td>NaN</td>\n",
       "    </tr>\n",
       "    <tr>\n",
       "      <th>2696</th>\n",
       "      <td>4</td>\n",
       "      <td>50000.0</td>\n",
       "      <td>0.0</td>\n",
       "      <td>18.0</td>\n",
       "      <td>3712.0</td>\n",
       "      <td>698.0</td>\n",
       "    </tr>\n",
       "    <tr>\n",
       "      <th>2697</th>\n",
       "      <td>1</td>\n",
       "      <td>50000.0</td>\n",
       "      <td>0.0</td>\n",
       "      <td>14.0</td>\n",
       "      <td>11.0</td>\n",
       "      <td>2.0</td>\n",
       "    </tr>\n",
       "    <tr>\n",
       "      <th>2698</th>\n",
       "      <td>10</td>\n",
       "      <td>128000.0</td>\n",
       "      <td>0.0</td>\n",
       "      <td>20.0</td>\n",
       "      <td>11108.0</td>\n",
       "      <td>1356.0</td>\n",
       "    </tr>\n",
       "  </tbody>\n",
       "</table>\n",
       "<p>2699 rows × 6 columns</p>\n",
       "</div>"
      ],
      "text/plain": [
       "     NumEmployees  RegisteredCapital  NumPeople  NumCars  \\\n",
       "0               6           500000.0        1.0      6.0   \n",
       "1              11           500000.0        1.0      0.0   \n",
       "2              61          1000000.0        0.0      6.0   \n",
       "3              37          3600000.0        0.0      0.0   \n",
       "4              63          7000000.0        NaN      NaN   \n",
       "...           ...                ...        ...      ...   \n",
       "2694           12            50000.0        0.0      0.0   \n",
       "2695            2            50000.0        NaN      NaN   \n",
       "2696            4            50000.0        0.0     18.0   \n",
       "2697            1            50000.0        0.0     14.0   \n",
       "2698           10           128000.0        0.0     20.0   \n",
       "\n",
       "      DistanceToBusinessMeters  DistanceToBusinessDriveSeconds  \n",
       "0                       3237.0                           606.0  \n",
       "1                     696252.0                         35422.0  \n",
       "2                     383203.0                         18336.0  \n",
       "3                      30477.0                          1455.0  \n",
       "4                          NaN                             NaN  \n",
       "...                        ...                             ...  \n",
       "2694                    1434.0                           240.0  \n",
       "2695                       NaN                             NaN  \n",
       "2696                    3712.0                           698.0  \n",
       "2697                      11.0                             2.0  \n",
       "2698                   11108.0                          1356.0  \n",
       "\n",
       "[2699 rows x 6 columns]"
      ]
     },
     "execution_count": 8,
     "metadata": {},
     "output_type": "execute_result"
    }
   ],
   "source": [
    "df[['NumEmployees', 'RegisteredCapital', 'NumPeople', 'NumCars', 'DistanceToBusinessMeters', 'DistanceToBusinessDriveSeconds']]"
   ]
  },
  {
   "cell_type": "code",
   "execution_count": 10,
   "metadata": {},
   "outputs": [
    {
     "data": {
      "image/png": "[encoded data removed]",
      "text/plain": [
       "<Figure size 432x288 with 1 Axes>"
      ]
     },
     "metadata": {
      "needs_background": "light"
     },
     "output_type": "display_data"
    }
   ],
   "source": [
    "plt.hist(np.log(df[\"RegisteredCapital\"]))\n",
    "plt.show()"
   ]
  },
  {
   "cell_type": "code",
   "execution_count": 11,
   "metadata": {},
   "outputs": [
    {
     "name": "stdout",
     "output_type": "stream",
     "text": [
      "Summary statistics of RegisteredCapital in DKK for 2758 Companies:\n",
      "\tMin: 40002.0\n",
      "\tQ1: 100000.0\n",
      "\tMedian: 400000.0\n",
      "\tMean: 12547543.2\n",
      "\tQ3: 627020.0\n",
      "\tMax: 17569715000.0\n"
     ]
    }
   ],
   "source": [
    "#Function to print summary statistics of data\n",
    "def summ(X):\n",
    "    print(f\"\\tMin: {min(X)}\")\n",
    "    print(f\"\\tQ1: {np.percentile(X,[25,50,75])[0]}\")\n",
    "    print(f\"\\tMedian: {np.percentile(X,[25,50,75])[1]}\")\n",
    "    print(f\"\\tMean: {round(sum(X)/len(X),1)}\")    \n",
    "    print(f\"\\tQ3: {np.percentile(X,[25,50,75])[2]}\") \n",
    "    print(f\"\\tMax: {max(X)}\")\n",
    "print(\"Summary statistics of RegisteredCapital in DKK for 2758 Companies:\")\n",
    "summ(df[\"RegisteredCapital\"])"
   ]
  },
  {
   "cell_type": "code",
   "execution_count": 12,
   "metadata": {},
   "outputs": [
    {
     "data": {
      "text/plain": [
       "[40002.0, 40900.0, 41000.0, 42500.0]"
      ]
     },
     "execution_count": 12,
     "metadata": {},
     "output_type": "execute_result"
    }
   ],
   "source": [
    "sorted(df[\"RegisteredCapital\"])[:4]"
   ]
  },
  {
   "cell_type": "code",
   "execution_count": 13,
   "metadata": {},
   "outputs": [
    {
     "name": "stderr",
     "output_type": "stream",
     "text": [
      "/home/julius/anaconda3/lib/python3.7/site-packages/ipykernel_launcher.py:5: SettingWithCopyWarning: \n",
      "A value is trying to be set on a copy of a slice from a DataFrame\n",
      "\n",
      "See the caveats in the documentation: https://pandas.pydata.org/pandas-docs/stable/user_guide/indexing.html#returning-a-view-versus-a-copy\n",
      "  \"\"\"\n",
      "/home/julius/anaconda3/lib/python3.7/site-packages/ipykernel_launcher.py:7: SettingWithCopyWarning: \n",
      "A value is trying to be set on a copy of a slice from a DataFrame\n",
      "\n",
      "See the caveats in the documentation: https://pandas.pydata.org/pandas-docs/stable/user_guide/indexing.html#returning-a-view-versus-a-copy\n",
      "  import sys\n"
     ]
    }
   ],
   "source": [
    "#Making a copy of the dataframe when changin \"nan\" to 0\n",
    "dfc=df.copy()\n",
    "for i in range(len(dfc)):\n",
    "    if str(dfc[\"NumPeople\"][i]) == \"nan\":\n",
    "        dfc[\"NumPeople\"][i] = 0\n",
    "    if str(dfc[\"NumCars\"][i]) == \"nan\":\n",
    "        dfc[\"NumCars\"][i] = 0"
   ]
  },
  {
   "cell_type": "markdown",
   "metadata": {},
   "source": [
    "## Sci-kit Learn used to analyse the data and create predictors"
   ]
  },
  {
   "cell_type": "code",
   "execution_count": 14,
   "metadata": {},
   "outputs": [],
   "source": [
    "from sklearn.decomposition import PCA\n",
    "from sklearn.linear_model import LinearRegression as Linear\n",
    "from sklearn.preprocessing import RobustScaler\n",
    "from sklearn.linear_model import LogisticRegression as Logistic\n",
    "from sklearn.discriminant_analysis import LinearDiscriminantAnalysis as LDA\n",
    "from sklearn.metrics import f1_score"
   ]
  },
  {
   "cell_type": "code",
   "execution_count": 15,
   "metadata": {},
   "outputs": [],
   "source": [
    "#Create some versions of the data to potentially use\n",
    "pca=PCA(n_components=1)\n",
    "objects = dfc[[\"NumPeople\",\"NumCars\"]]\n",
    "XX=pca.fit_transform(objects)\n",
    "regcap = df[\"RegisteredCapital\"]"
   ]
  },
  {
   "cell_type": "code",
   "execution_count": 29,
   "metadata": {},
   "outputs": [
    {
     "name": "stdout",
     "output_type": "stream",
     "text": [
      "0.6924786958132642\n"
     ]
    }
   ],
   "source": [
    "#Define wealthy company as >500000\n",
    "wealthy=[int]*len(regcap)\n",
    "for i,cap in enumerate(regcap):\n",
    "    if cap > 500000:\n",
    "        wealthy[i]=1\n",
    "    else:\n",
    "        wealthy[i]=0\n",
    "print((len(wealthy)-len([n for n in wealthy if n==1]))/len(wealthy))"
   ]
  },
  {
   "cell_type": "code",
   "execution_count": 17,
   "metadata": {},
   "outputs": [],
   "source": [
    "#Robust transformation\n",
    "median_x = np.percentile(regcap,[25,50,75])[1]\n",
    "q1 = np.percentile(regcap,[25,50,75])[0]\n",
    "q3 = np.percentile(regcap,[25,50,75])[2]\n",
    "regcap_T=[np.float64]*len(regcap)\n",
    "\n",
    "for i in range(len(regcap)):\n",
    "    regcap_T[i]=(regcap[i]-median_x)/(q3-q1)"
   ]
  },
  {
   "cell_type": "code",
   "execution_count": 18,
   "metadata": {},
   "outputs": [
    {
     "name": "stdout",
     "output_type": "stream",
     "text": [
      "\tMin: -0.6830822359682744\n",
      "\tQ1: -0.5692383590755569\n",
      "\tMedian: 0.0\n",
      "\tMean: 23.0\n",
      "\tQ3: 0.43076164092444313\n",
      "\tMax: 33337.09346893856\n"
     ]
    }
   ],
   "source": [
    "summ(regcap_T)"
   ]
  },
  {
   "cell_type": "code",
   "execution_count": 20,
   "metadata": {
    "scrolled": true
   },
   "outputs": [
    {
     "name": "stdout",
     "output_type": "stream",
     "text": [
      "7.655854699428755e-05\n",
      "f1: 0.4682630178639301\n",
      "0.48165987402741756\n",
      "0.6924786958132642\n"
     ]
    },
    {
     "name": "stderr",
     "output_type": "stream",
     "text": [
      "/home/julius/anaconda3/lib/python3.7/site-packages/sklearn/linear_model/logistic.py:432: FutureWarning: Default solver will be changed to 'lbfgs' in 0.22. Specify a solver to silence this warning.\n",
      "  FutureWarning)\n"
     ]
    }
   ],
   "source": [
    "#Linear regression on registere capital, logistic and Linear Discriminant Analysis for classifiers\n",
    "reg = Linear()\n",
    "reg.fit(objects,regcap_T)\n",
    "print(reg.score(objects,regcap_T))\n",
    "log = Logistic(class_weight=\"balanced\")\n",
    "log.fit(objects, wealthy)\n",
    "print(f\"f1: {f1_score(wealthy,log.predict(objects))}\")\n",
    "print(log.score(objects,wealthy))\n",
    "lda=LDA()\n",
    "lda.fit(objects,wealthy)\n",
    "ldx=lda.transform(objects)\n",
    "print(lda.score(objects,wealthy))"
   ]
  },
  {
   "cell_type": "code",
   "execution_count": 73,
   "metadata": {},
   "outputs": [
    {
     "ename": "AttributeError",
     "evalue": "'AxesSubplot' object has no attribute 'xlabels'",
     "output_type": "error",
     "traceback": [
      "\u001b[0;31m---------------------------------------------------------------------------\u001b[0m",
      "\u001b[0;31mAttributeError\u001b[0m                            Traceback (most recent call last)",
      "\u001b[0;32m<ipython-input-73-32765c46e67e>\u001b[0m in \u001b[0;36m<module>\u001b[0;34m\u001b[0m\n\u001b[1;32m      1\u001b[0m \u001b[0mfig\u001b[0m\u001b[0;34m,\u001b[0m\u001b[0max\u001b[0m\u001b[0;34m=\u001b[0m\u001b[0mplt\u001b[0m\u001b[0;34m.\u001b[0m\u001b[0msubplots\u001b[0m\u001b[0;34m(\u001b[0m\u001b[0;34m)\u001b[0m\u001b[0;34m\u001b[0m\u001b[0;34m\u001b[0m\u001b[0m\n\u001b[1;32m      2\u001b[0m \u001b[0max\u001b[0m\u001b[0;34m.\u001b[0m\u001b[0mscatter\u001b[0m\u001b[0;34m(\u001b[0m\u001b[0mobjects\u001b[0m\u001b[0;34m[\u001b[0m\u001b[0;34m\"NumPeople\"\u001b[0m\u001b[0;34m]\u001b[0m\u001b[0;34m,\u001b[0m\u001b[0mobjects\u001b[0m\u001b[0;34m[\u001b[0m\u001b[0;34m\"NumCars\"\u001b[0m\u001b[0;34m]\u001b[0m\u001b[0;34m,\u001b[0m\u001b[0mc\u001b[0m\u001b[0;34m=\u001b[0m\u001b[0mwealthy\u001b[0m\u001b[0;34m,\u001b[0m\u001b[0mcmap\u001b[0m\u001b[0;34m=\u001b[0m\u001b[0;34m\"bwr\"\u001b[0m\u001b[0;34m,\u001b[0m\u001b[0mlabel\u001b[0m\u001b[0;34m=\u001b[0m\u001b[0mwealthy\u001b[0m\u001b[0;34m)\u001b[0m\u001b[0;34m\u001b[0m\u001b[0;34m\u001b[0m\u001b[0m\n\u001b[0;32m----> 3\u001b[0;31m \u001b[0max\u001b[0m\u001b[0;34m.\u001b[0m\u001b[0mxlabels\u001b[0m\u001b[0;34m(\u001b[0m\u001b[0;34m\"cringe\"\u001b[0m\u001b[0;34m)\u001b[0m\u001b[0;34m\u001b[0m\u001b[0;34m\u001b[0m\u001b[0m\n\u001b[0m\u001b[1;32m      4\u001b[0m \u001b[0mplt\u001b[0m\u001b[0;34m.\u001b[0m\u001b[0mshow\u001b[0m\u001b[0;34m(\u001b[0m\u001b[0;34m)\u001b[0m\u001b[0;34m\u001b[0m\u001b[0;34m\u001b[0m\u001b[0m\n",
      "\u001b[0;31mAttributeError\u001b[0m: 'AxesSubplot' object has no attribute 'xlabels'"
     ]
    },
    {
     "data": {
      "image/png": "[encoded data removed]",
      "text/plain": [
       "<Figure size 432x288 with 1 Axes>"
      ]
     },
     "metadata": {
      "needs_background": "light"
     },
     "output_type": "display_data"
    }
   ],
   "source": [
    "fig,ax=plt.subplots()\n",
    "ax.scatter(objects[\"NumPeople\"],objects[\"NumCars\"],c=wealthy,cmap=\"bwr\",label=wealthy)\n",
    "ax.xlabel(\"cringe\")\n",
    "plt.show()"
   ]
  },
  {
   "cell_type": "code",
   "execution_count": 22,
   "metadata": {},
   "outputs": [
    {
     "data": {
      "image/png": "[encoded data removed]",
      "text/plain": [
       "<Figure size 432x288 with 1 Axes>"
      ]
     },
     "metadata": {
      "needs_background": "light"
     },
     "output_type": "display_data"
    }
   ],
   "source": [
    "plt.scatter(XX,[0]*len(XX),c=wealthy)\n",
    "plt.show()"
   ]
  },
  {
   "cell_type": "code",
   "execution_count": 23,
   "metadata": {},
   "outputs": [
    {
     "data": {
      "image/png": "[encoded data removed]",
      "text/plain": [
       "<Figure size 432x288 with 1 Axes>"
      ]
     },
     "metadata": {
      "needs_background": "light"
     },
     "output_type": "display_data"
    }
   ],
   "source": [
    "plt.scatter(ldx,[0]*len(ldx),c=wealthy)\n",
    "plt.show()"
   ]
  },
  {
   "cell_type": "code",
   "execution_count": 24,
   "metadata": {},
   "outputs": [
    {
     "name": "stdout",
     "output_type": "stream",
     "text": [
      "\tMin: 0.0\n",
      "\tQ1: 0.0\n",
      "\tMedian: 0.0\n",
      "\tMean: 0.4\n",
      "\tQ3: 0.0\n",
      "\tMax: 14.0\n",
      "\n",
      "\tMin: 0.0\n",
      "\tQ1: 0.0\n",
      "\tMedian: 2.0\n",
      "\tMean: 4.7\n",
      "\tQ3: 7.0\n",
      "\tMax: 36.0\n"
     ]
    }
   ],
   "source": [
    "summ(objects[\"NumPeople\"])\n",
    "print(\"\")\n",
    "summ(objects[\"NumCars\"])"
   ]
  }
 ],
 "metadata": {
  "kernelspec": {
   "display_name": "Python 3",
   "language": "python",
   "name": "python3"
  },
  "language_info": {
   "codemirror_mode": {
    "name": "ipython",
    "version": 3
   },
   "file_extension": ".py",
   "mimetype": "text/x-python",
   "name": "python",
   "nbconvert_exporter": "python",
   "pygments_lexer": "ipython3",
   "version": "3.7.3"
  }
 },
 "nbformat": 4,
 "nbformat_minor": 5
}
