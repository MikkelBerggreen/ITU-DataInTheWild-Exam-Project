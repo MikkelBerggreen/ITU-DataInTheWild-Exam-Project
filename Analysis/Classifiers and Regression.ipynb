{
 "cells": [
  {
   "cell_type": "code",
   "execution_count": 541,
   "metadata": {},
   "outputs": [],
   "source": [
    "import pandas as pd\n",
    "import numpy as np\n",
    "import json\n",
    "import seaborn as sns\n",
    "import matplotlib.pyplot as plt"
   ]
  },
  {
   "cell_type": "code",
   "execution_count": 683,
   "metadata": {},
   "outputs": [],
   "source": [
    "df = pd.read_csv(\"data_v6.csv\")"
   ]
  },
  {
   "cell_type": "code",
   "execution_count": 680,
   "metadata": {},
   "outputs": [
    {
     "name": "stdout",
     "output_type": "stream",
     "text": [
      "Summary statistics of RegisteredCapital in DKK for 2758 Companies:\n",
      "\tMin: 50001.0\n",
      "\tQ1: 125000.0\n",
      "\tMedian: 500000.0\n",
      "\tMean: 803442.8\n",
      "\tQ3: 625000.0\n",
      "\tMax: 9292139.0\n"
     ]
    }
   ],
   "source": [
    "#Function to print summary statistics of data\n",
    "def summ(X):\n",
    "    print(f\"\\tMin: {min(X)}\")\n",
    "    print(f\"\\tQ1: {np.percentile(X,[25,50,75])[0]}\")\n",
    "    print(f\"\\tMedian: {np.percentile(X,[25,50,75])[1]}\")\n",
    "    print(f\"\\tMean: {round(sum(X)/len(X),1)}\")    \n",
    "    print(f\"\\tQ3: {np.percentile(X,[25,50,75])[2]}\") \n",
    "    print(f\"\\tMax: {max(X)}\")\n",
    "print(\"Summary statistics of RegisteredCapital in DKK for 2758 Companies:\")\n",
    "summ(df[\"RegisteredCapital\"])"
   ]
  },
  {
   "cell_type": "code",
   "execution_count": 548,
   "metadata": {},
   "outputs": [
    {
     "name": "stderr",
     "output_type": "stream",
     "text": [
      "/home/julius/anaconda3/lib/python3.7/site-packages/ipykernel_launcher.py:5: SettingWithCopyWarning: \n",
      "A value is trying to be set on a copy of a slice from a DataFrame\n",
      "\n",
      "See the caveats in the documentation: https://pandas.pydata.org/pandas-docs/stable/user_guide/indexing.html#returning-a-view-versus-a-copy\n",
      "  \"\"\"\n",
      "/home/julius/anaconda3/lib/python3.7/site-packages/ipykernel_launcher.py:7: SettingWithCopyWarning: \n",
      "A value is trying to be set on a copy of a slice from a DataFrame\n",
      "\n",
      "See the caveats in the documentation: https://pandas.pydata.org/pandas-docs/stable/user_guide/indexing.html#returning-a-view-versus-a-copy\n",
      "  import sys\n"
     ]
    }
   ],
   "source": [
    "#Making a copy of the dataframe when changin \"nan\" to 0\n",
    "dfc=df.copy()\n",
    "for i in range(len(dfc)):\n",
    "    if str(dfc[\"NumPeople\"][i]) == \"nan\":\n",
    "        dfc[\"NumPeople\"][i] = 0\n",
    "    if str(dfc[\"NumCars\"][i]) == \"nan\":\n",
    "        dfc[\"NumCars\"][i] = 0"
   ]
  },
  {
   "cell_type": "markdown",
   "metadata": {},
   "source": [
    "## Sci-kit Learn used to analyse the data and create predictors"
   ]
  },
  {
   "cell_type": "code",
   "execution_count": 549,
   "metadata": {},
   "outputs": [],
   "source": [
    "from sklearn.linear_model import LogisticRegression as Logistic\n",
    "from sklearn.metrics import f1_score\n",
    "from sklearn.metrics import precision_score\n",
    "from sklearn.metrics import recall_score"
   ]
  },
  {
   "cell_type": "code",
   "execution_count": 550,
   "metadata": {},
   "outputs": [],
   "source": [
    "objects = dfc[[\"NumPeople\",\"NumCars\"]]\n",
    "regcap = df[\"RegisteredCapital\"]"
   ]
  },
  {
   "cell_type": "code",
   "execution_count": 655,
   "metadata": {},
   "outputs": [
    {
     "name": "stdout",
     "output_type": "stream",
     "text": [
      "Total Registered Capital for the top 20% of companies: 1184643895.38 DKK\n",
      "Total Registered Capital for the bottom 80% of companies: 559023565.97 DKK\n",
      "Total Registered Capital for the all companies: 1742667461.35 DKK\n",
      "Proportion of capital that comes from the top 20%: 0.6797876942410382\n"
     ]
    }
   ],
   "source": [
    "#Checking the 80-20 rule\n",
    "regcap_df = pd.DataFrame(list(zip(objects[\"NumCars\"],objects[\"NumPeople\"],regcap)))\n",
    "regcap_df.columns =['NumCars', 'NumPeople', 'RegisteredCapital']\n",
    "regcap_df = regcap_df.sort_values(by=\"RegisteredCapital\",ignore_index=True)\n",
    "top20 = regcap_df.loc[round(len(XY)*0.8):]\n",
    "bottom80 = regcap_df.loc[:round(len(XY)*0.8)]\n",
    "print(f\"Total Registered Capital for the top 20% of companies: {top20['RegisteredCapital'].sum()} DKK\")\n",
    "print(f\"Total Registered Capital for the bottom 80% of companies: {bottom80['RegisteredCapital'].sum()} DKK\")\n",
    "print(f\"Total Registered Capital for the all companies: {regcap_df['RegisteredCapital'].sum()} DKK\")\n",
    "print(f\"Proportion of capital that comes from the top 20%: {top20['RegisteredCapital'].sum()/regcap_df['RegisteredCapital'].sum()}\")\n",
    "#print(len(p20),len(p80),len(p20)/len(XY),len(p80)/len(XY))"
   ]
  },
  {
   "cell_type": "code",
   "execution_count": 552,
   "metadata": {},
   "outputs": [
    {
     "name": "stdout",
     "output_type": "stream",
     "text": [
      "0.6795758414015676\n"
     ]
    }
   ],
   "source": [
    "#Define wealthy company as having more than 500,000\n",
    "wealthy=[int]*len(regcap)\n",
    "for i,cap in enumerate(regcap):\n",
    "    if cap > 500000:\n",
    "        wealthy[i]=1\n",
    "    else:\n",
    "        wealthy[i]=0\n",
    "print((len(wealthy)-len([n for n in wealthy if n==1]))/len(wealthy))\n",
    "\n",
    "objects=pd.DataFrame(list(zip(objects[\"NumCars\"],objects[\"NumPeople\"],wealthy)))\n",
    "objects.columns =['NumCars', 'NumPeople', 'Wealthy']"
   ]
  },
  {
   "cell_type": "code",
   "execution_count": 686,
   "metadata": {
    "scrolled": true
   },
   "outputs": [
    {
     "name": "stdout",
     "output_type": "stream",
     "text": [
      "Threshold: 500,000\n",
      "f1-score: 0.4792758456407814\n",
      "precision: 0.35826210826210825\n",
      "recall: 0.7237410071942446\n",
      "accuracy: 0.49608114338404796\n"
     ]
    }
   ],
   "source": [
    "#logistic Regression\n",
    "def mls(x,y):\n",
    "    log = Logistic(class_weight=\"balanced\",solver='lbfgs')\n",
    "    log.fit(x,y)\n",
    "    print(f\"f1-score: {f1_score(y,log.predict(x))}\")\n",
    "    print(f\"precision: {precision_score(y,log.predict(x))}\")\n",
    "    print(f\"recall: {recall_score(y,log.predict(x))}\")\n",
    "    print(f\"accuracy: {log.score(x,y)}\")\n",
    "print(\"Threshold: 500,000\")\n",
    "mls(objects[[\"NumCars\",\"NumPeople\"]],objects[\"Wealthy\"])"
   ]
  },
  {
   "cell_type": "markdown",
   "metadata": {},
   "source": [
    "## Removing some 0's"
   ]
  },
  {
   "cell_type": "code",
   "execution_count": 687,
   "metadata": {},
   "outputs": [
    {
     "name": "stdout",
     "output_type": "stream",
     "text": [
      "Proportion removed: 0.28722913785154447\n",
      "Threshold: 500,000. No datapoints with nothing detected\n",
      "f1-score: 0.46758620689655167\n",
      "precision: 0.3445121951219512\n",
      "recall: 0.7274678111587983\n",
      "accuracy: 0.500646830530401\n"
     ]
    }
   ],
   "source": [
    "objects_detect=objects.loc[(objects[\"NumPeople\"]!=0) | (objects[\"NumCars\"]!=0)]\n",
    "print(f\"Proportion removed: {1-len(objects_detect)/len(objects)}\")\n",
    "X_d = objects_detect[[\"NumCars\",\"NumPeople\"]]\n",
    "Y_d = objects_detect[\"Wealthy\"]\n",
    "print(\"Threshold: 500,000. No datapoints with nothing detected\")\n",
    "mls(X_d,Y_d)"
   ]
  },
  {
   "cell_type": "markdown",
   "metadata": {},
   "source": [
    "## Different Threshholds"
   ]
  },
  {
   "cell_type": "code",
   "execution_count": 670,
   "metadata": {},
   "outputs": [
    {
     "name": "stdout",
     "output_type": "stream",
     "text": [
      "Proporiton of wealthy companies 250,000: 0.5859843245735362\n",
      "Proporiton of wealthy companies 1,000,000: 0.15352697095435686\n",
      "Proporiton of wealthy companies 500,000 inclusive: 0.553711387736284\n"
     ]
    }
   ],
   "source": [
    "wealthy_25=[int]*len(regcap)\n",
    "for i,cap in enumerate(regcap):\n",
    "    if cap > 250000:\n",
    "        wealthy_25[i]=1\n",
    "    else:\n",
    "        wealthy_25[i]=0\n",
    "print(f\"Proporiton of wealthy companies 250,000: {len([n for n in wealthy_25 if n==1])/len(wealthy_25)}\")\n",
    "\n",
    "wealthy_mil=[int]*len(regcap)\n",
    "for i,cap in enumerate(regcap):\n",
    "    if cap > 1000000:\n",
    "        wealthy_mil[i]=1\n",
    "    else:\n",
    "        wealthy_mil[i]=0\n",
    "print(f\"Proporiton of wealthy companies 1,000,000: {len([n for n in wealthy_mil if n==1])/len(wealthy_mil)}\")\n",
    "\n",
    "\n",
    "#What if it's 500,000 or above?\n",
    "wealthy_inclusive=[int]*len(regcap)\n",
    "for i,cap in enumerate(regcap):\n",
    "    if cap >= 500000:\n",
    "        wealthy_inclusive[i]=1\n",
    "    else:\n",
    "        wealthy_inclusive[i]=0\n",
    "print(f\"Proporiton of wealthy companies 500,000 inclusive: {len([n for n in wealthy_inclusive if n==1])/len(wealthy_inclusive)}\")"
   ]
  },
  {
   "cell_type": "code",
   "execution_count": 688,
   "metadata": {},
   "outputs": [
    {
     "name": "stdout",
     "output_type": "stream",
     "text": [
      "Threshold: 200000\n",
      "f1-score: 0.6729309721720275\n",
      "precision: 0.6223262032085561\n",
      "recall: 0.7324940991345398\n",
      "accuracy: 0.582757030889811\n",
      "Threshold: 1000000\n",
      "f1-score: 0.27755568246716167\n",
      "precision: 0.17136812411847674\n",
      "recall: 0.7297297297297297\n",
      "accuracy: 0.41678192715537116\n"
     ]
    }
   ],
   "source": [
    "print(\"Threshold: 200000\")\n",
    "log2=mls(objects[[\"NumCars\",\"NumPeople\"]],wealthy2)\n",
    "print(\"Threshold: 1000000\")\n",
    "mls(objects[[\"NumCars\",\"NumPeople\"]],wealthy3)\n",
    "#print(\"10000000:\")\n",
    "#mls(objects[[\"NumCars\",\"NumPeople\"]],wealthy4)"
   ]
  },
  {
   "cell_type": "code",
   "execution_count": 673,
   "metadata": {},
   "outputs": [],
   "source": [
    "def splitter(obje):\n",
    "    \"\"\"Splits the values of objects for the heatmap.\"\"\"\n",
    "    obj=[]\n",
    "    obj.append(obje[(obje[\"NumCars\"]<5) & (obje[\"NumPeople\"]<5)])\n",
    "    obj.append(obje[(obje[\"NumCars\"]<5) & (obje[\"NumPeople\"]>4) & (obje[\"NumPeople\"]<10)])\n",
    "    obj.append(obje[(obje[\"NumCars\"]<5) & (obje[\"NumPeople\"]>9) & (obje[\"NumPeople\"]<15)])\n",
    "    obj.append(obje[(obje[\"NumCars\"]>4) & (obje[\"NumCars\"]<10) & (obje[\"NumPeople\"]<5)])\n",
    "    obj.append(obje[(obje[\"NumCars\"]>4) & (obje[\"NumCars\"]<10) & (obje[\"NumPeople\"]>4) & (obje[\"NumPeople\"]<10)])\n",
    "    obj.append(obje[(obje[\"NumCars\"]>4) & (obje[\"NumCars\"]<10) & (obje[\"NumPeople\"]>9) & (obje[\"NumPeople\"]<15)])\n",
    "    obj.append(obje[(obje[\"NumCars\"]>9) & (obje[\"NumCars\"]<15) & (obje[\"NumPeople\"]<5)])\n",
    "    obj.append(obje[(obje[\"NumCars\"]>9) & (obje[\"NumCars\"]<15) & (obje[\"NumPeople\"]>4) & (obje[\"NumPeople\"]<10)])\n",
    "    obj.append(obje[(obje[\"NumCars\"]>9) & (obje[\"NumCars\"]<15) & (obje[\"NumPeople\"]>9) & (obje[\"NumPeople\"]<15)])\n",
    "    obj.append(obje[(obje[\"NumCars\"]>14) & (obje[\"NumCars\"]<20) & (obje[\"NumPeople\"]<5)])\n",
    "    obj.append(obje[(obje[\"NumCars\"]>14) & (obje[\"NumCars\"]<20) & (obje[\"NumPeople\"]>4) & (obje[\"NumPeople\"]<10)])\n",
    "    obj.append(obje[(obje[\"NumCars\"]>14) & (obje[\"NumCars\"]<20) & (obje[\"NumPeople\"]>9) & (obje[\"NumPeople\"]<15)])\n",
    "    obj.append(obje[(obje[\"NumCars\"]>19) & (obje[\"NumCars\"]<25) & (obje[\"NumPeople\"]<5)])\n",
    "    obj.append(obje[(obje[\"NumCars\"]>19) & (obje[\"NumCars\"]<25) & (obje[\"NumPeople\"]>4) & (obje[\"NumPeople\"]<10)])\n",
    "    obj.append(obje[(obje[\"NumCars\"]>19) & (obje[\"NumCars\"]<25) & (obje[\"NumPeople\"]>9) & (obje[\"NumPeople\"]<15)])\n",
    "    obj.append(obje[(obje[\"NumCars\"]>24) & (obje[\"NumCars\"]<30) & (obje[\"NumPeople\"]<5)])\n",
    "    obj.append(obje[(obje[\"NumCars\"]>24) & (obje[\"NumCars\"]<30) & (obje[\"NumPeople\"]>4) & (obje[\"NumPeople\"]<10)])\n",
    "    obj.append(obje[(obje[\"NumCars\"]>24) & (obje[\"NumCars\"]<30) & (obje[\"NumPeople\"]>9) & (obje[\"NumPeople\"]<15)])\n",
    "    obj.append(obje[(obje[\"NumCars\"]>29) & (obje[\"NumCars\"]<36) & (obje[\"NumPeople\"]<5)])\n",
    "    obj.append(obje[(obje[\"NumCars\"]>29) & (obje[\"NumCars\"]<36) & (obje[\"NumPeople\"]>4) & (obje[\"NumPeople\"]<10)])\n",
    "    obj.append(obje[(obje[\"NumCars\"]>29) & (obje[\"NumCars\"]<36) & (obje[\"NumPeople\"]>9) & (obje[\"NumPeople\"]<15)])\n",
    "    return obj"
   ]
  },
  {
   "cell_type": "code",
   "execution_count": 674,
   "metadata": {},
   "outputs": [],
   "source": [
    "def get_val(objec):\n",
    "    value=[]\n",
    "    obj=splitter(objec)\n",
    "    for o in obj:\n",
    "        if len(o)==0:\n",
    "            value.append(o[\"Wealthy\"].sum())\n",
    "        else:\n",
    "            value.append(o[\"Wealthy\"].sum()/len(o))\n",
    "    return value"
   ]
  },
  {
   "cell_type": "code",
   "execution_count": 675,
   "metadata": {},
   "outputs": [],
   "source": [
    "objects_25=pd.DataFrame(list(zip(objects[\"NumCars\"],objects[\"NumPeople\"],wealthy_25)))\n",
    "objects_25.columns =['NumCars', 'NumPeople', 'Wealthy']"
   ]
  },
  {
   "cell_type": "code",
   "execution_count": 676,
   "metadata": {},
   "outputs": [
    {
     "data": {
      "image/png": "[encoded data removed]",
      "text/plain": [
       "<Figure size 432x288 with 2 Axes>"
      ]
     },
     "metadata": {
      "needs_background": "light"
     },
     "output_type": "display_data"
    }
   ],
   "source": [
    "Cars = [\"0-4\", \"5-9\", \"10-14\", \"15-19\", \"20-24\", \"25-29\", \"30-35\"]\n",
    "Cars.reverse()\n",
    "People = [\"0-4\", \"5-9\", \"10-14\"]\n",
    "\n",
    "vlue = []\n",
    "value2 = get_val(objects_25)\n",
    "for i in range(7):\n",
    "    v=[]\n",
    "    for j in range(3):\n",
    "        v.append(round(value2[i*3+j],2))\n",
    "    vlue.append(v)\n",
    "vlue.reverse()\n",
    "vlue = np.array(vlue,dtype=np.float)\n",
    "\n",
    "fig, (ax1, ax2) = plt.subplots(1,2)\n",
    "im = ax1.imshow(vlue,cmap=\"Greens\", vmin = 0, vmax = 1)\n",
    "# Show all ticks and label them with the respective list entries\n",
    "ax1.set_xticks(np.arange(len(People)))\n",
    "ax1.set_yticks(np.arange(len(Cars)))\n",
    "\n",
    "ax1.set_xticklabels(People)\n",
    "ax1.set_yticklabels(Cars)\n",
    "ax1.set_xlabel(\"People\", size=15)\n",
    "ax1.set_ylabel(\"Cars\", size=17)\n",
    "\n",
    "# Rotate the tick labels and set their alignment.\n",
    "plt.setp(ax1.get_xticklabels(), rotation=45, ha=\"right\",\n",
    "         rotation_mode=\"anchor\")\n",
    "\n",
    "# Loop over data dimensions and create text annotations.\n",
    "for i in range(len(Cars)):\n",
    "    for j in range(len(People)):\n",
    "        text = ax1.text(j, i, vlue[i, j],\n",
    "                       ha=\"center\", va=\"center\", color=\"black\")\n",
    "\n",
    "ax1.set_title(\"Threshold: 250,000\", size=15)\n",
    "\n",
    "vlue = []\n",
    "value = get_val(objects)\n",
    "for i in range(7):\n",
    "    v=[]\n",
    "    for j in range(3):\n",
    "        v.append(round(value[i*3+j],2))\n",
    "    vlue.append(v)\n",
    "vlue.reverse()\n",
    "vlue = np.array(vlue,dtype=np.float)\n",
    "\n",
    "#fig, ax = plt.subplots()\n",
    "im = ax2.imshow(vlue,cmap=\"Greens\", vmin = 0, vmax = 1)\n",
    "\n",
    "# Show all ticks and label them with the respective list entries\n",
    "ax2.set_xticks(np.arange(len(People)))\n",
    "ax2.set_yticks(np.arange(len(Cars)))\n",
    "\n",
    "ax2.set_xticklabels(People)\n",
    "ax2.set_yticklabels(Cars)\n",
    "ax2.set_xlabel(\"People\", size=15)\n",
    "\n",
    "# Rotate the tick labels and set their alignment.\n",
    "plt.setp(ax2.get_xticklabels(), rotation=45, ha=\"right\",\n",
    "         rotation_mode=\"anchor\")\n",
    "\n",
    "# Loop over data dimensions and create text annotations.\n",
    "for i in range(len(Cars)):\n",
    "    for j in range(len(People)):\n",
    "        text = ax2.text(j, i, vlue[i, j],\n",
    "                       ha=\"center\", va=\"center\", color=\"black\")\n",
    "\n",
    "ax2.set_title(\"Threshold: 500,000\", size=15)\n",
    "plt.show()"
   ]
  },
  {
   "cell_type": "code",
   "execution_count": 677,
   "metadata": {},
   "outputs": [
    {
     "name": "stdout",
     "output_type": "stream",
     "text": [
      "0.3204241585984325\n",
      "0.5859843245735362\n"
     ]
    }
   ],
   "source": [
    "print(len([n for n in wealthy if n == 1])/len(wealthy))\n",
    "print(len([n for n in wealthy_25 if n == 1])/len(wealthy_25))"
   ]
  }
 ],
 "metadata": {
  "kernelspec": {
   "display_name": "Python 3",
   "language": "python",
   "name": "python3"
  },
  "language_info": {
   "codemirror_mode": {
    "name": "ipython",
    "version": 3
   },
   "file_extension": ".py",
   "mimetype": "text/x-python",
   "name": "python",
   "nbconvert_exporter": "python",
   "pygments_lexer": "ipython3",
   "version": "3.7.3"
  }
 },
 "nbformat": 4,
 "nbformat_minor": 5
}
