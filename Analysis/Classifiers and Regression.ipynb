{
 "cells": [
  {
   "cell_type": "code",
   "execution_count": 4,
   "metadata": {},
   "outputs": [
    {
     "name": "stderr",
     "output_type": "stream",
     "text": [
      "/home/julius/anaconda3/lib/python3.7/site-packages/statsmodels/tools/_testing.py:19: FutureWarning: pandas.util.testing is deprecated. Use the functions in the public API at pandas.testing instead.\n",
      "  import pandas.util.testing as tm\n"
     ]
    }
   ],
   "source": [
    "import pandas as pd\n",
    "import numpy as np\n",
    "import json\n",
    "import seaborn as sns\n",
    "import matplotlib.pyplot as plt"
   ]
  },
  {
   "cell_type": "markdown",
   "metadata": {},
   "source": [
    "## Parsing and cleaning"
   ]
  },
  {
   "cell_type": "code",
   "execution_count": 5,
   "metadata": {},
   "outputs": [],
   "source": [
    "with open('data_v4.json', encoding=\"utf-8\") as json_file:\n",
    "    data = json.load(json_file)\n",
    "df = pd.json_normalize(data)"
   ]
  },
  {
   "cell_type": "code",
   "execution_count": 4,
   "metadata": {},
   "outputs": [
    {
     "data": {
      "text/plain": [
       "Name                               object\n",
       "CVR                                object\n",
       "BusinessAddress                    object\n",
       "StartDate                          object\n",
       "Status                             object\n",
       "IndustryCode                       object\n",
       "IndustryName                       object\n",
       "Area                               object\n",
       "AreaCode                           object\n",
       "NumEmployees                       object\n",
       "DirectorName                       object\n",
       "DirectorAddress                    object\n",
       "DirectorId                         object\n",
       "RegisteredCapital                 float64\n",
       "RegisteredCapitalCurrency          object\n",
       "NumPeople                         float64\n",
       "NumCars                           float64\n",
       "DistanceToBusinessMeters          float64\n",
       "DistanceToBusinessDriveSeconds    float64\n",
       "DirectorAddressLatitude           float64\n",
       "DirectorAddressLongitude          float64\n",
       "BusinessAddressLatitude           float64\n",
       "BusinessAddressLongitude          float64\n",
       "dtype: object"
      ]
     },
     "execution_count": 4,
     "metadata": {},
     "output_type": "execute_result"
    }
   ],
   "source": [
    "df.dtypes"
   ]
  },
  {
   "cell_type": "code",
   "execution_count": 5,
   "metadata": {},
   "outputs": [
    {
     "name": "stdout",
     "output_type": "stream",
     "text": [
      "Name                                0\n",
      "CVR                                 0\n",
      "BusinessAddress                     0\n",
      "StartDate                           0\n",
      "Status                              0\n",
      "IndustryCode                        0\n",
      "IndustryName                        0\n",
      "Area                                0\n",
      "AreaCode                            0\n",
      "NumEmployees                        0\n",
      "DirectorName                        0\n",
      "DirectorAddress                    72\n",
      "DirectorId                          0\n",
      "RegisteredCapital                   0\n",
      "RegisteredCapitalCurrency           0\n",
      "NumPeople                          73\n",
      "NumCars                            73\n",
      "DistanceToBusinessMeters          191\n",
      "DistanceToBusinessDriveSeconds    191\n",
      "DirectorAddressLatitude            72\n",
      "DirectorAddressLongitude           72\n",
      "BusinessAddressLatitude            95\n",
      "BusinessAddressLongitude           95\n",
      "dtype: int64\n"
     ]
    }
   ],
   "source": [
    "nan_count = df.isna().sum()\n",
    "\n",
    "print(nan_count)"
   ]
  },
  {
   "cell_type": "code",
   "execution_count": 6,
   "metadata": {},
   "outputs": [
    {
     "data": {
      "text/html": [
       "<div>\n",
       "<style scoped>\n",
       "    .dataframe tbody tr th:only-of-type {\n",
       "        vertical-align: middle;\n",
       "    }\n",
       "\n",
       "    .dataframe tbody tr th {\n",
       "        vertical-align: top;\n",
       "    }\n",
       "\n",
       "    .dataframe thead th {\n",
       "        text-align: right;\n",
       "    }\n",
       "</style>\n",
       "<table border=\"1\" class=\"dataframe\">\n",
       "  <thead>\n",
       "    <tr style=\"text-align: right;\">\n",
       "      <th></th>\n",
       "      <th>Name</th>\n",
       "      <th>CVR</th>\n",
       "      <th>BusinessAddress</th>\n",
       "      <th>StartDate</th>\n",
       "      <th>Status</th>\n",
       "      <th>IndustryCode</th>\n",
       "      <th>IndustryName</th>\n",
       "      <th>Area</th>\n",
       "      <th>AreaCode</th>\n",
       "      <th>NumEmployees</th>\n",
       "      <th>...</th>\n",
       "      <th>RegisteredCapital</th>\n",
       "      <th>RegisteredCapitalCurrency</th>\n",
       "      <th>NumPeople</th>\n",
       "      <th>NumCars</th>\n",
       "      <th>DistanceToBusinessMeters</th>\n",
       "      <th>DistanceToBusinessDriveSeconds</th>\n",
       "      <th>DirectorAddressLatitude</th>\n",
       "      <th>DirectorAddressLongitude</th>\n",
       "      <th>BusinessAddressLatitude</th>\n",
       "      <th>BusinessAddressLongitude</th>\n",
       "    </tr>\n",
       "  </thead>\n",
       "  <tbody>\n",
       "    <tr>\n",
       "      <th>0</th>\n",
       "      <td>POULSEN &amp; HANSEN A/S</td>\n",
       "      <td>76958211</td>\n",
       "      <td>C/O Flethøj Ejendomsadministration ApS, Energi...</td>\n",
       "      <td>1985-01-17</td>\n",
       "      <td>NORMAL</td>\n",
       "      <td>682040</td>\n",
       "      <td>Udlejning af erhvervsejendomme</td>\n",
       "      <td>København</td>\n",
       "      <td>101</td>\n",
       "      <td>6</td>\n",
       "      <td>...</td>\n",
       "      <td>500000.0</td>\n",
       "      <td>DKK</td>\n",
       "      <td>1.0</td>\n",
       "      <td>6.0</td>\n",
       "      <td>3237.0</td>\n",
       "      <td>606.0</td>\n",
       "      <td>55.671052</td>\n",
       "      <td>12.561257</td>\n",
       "      <td>55.657727</td>\n",
       "      <td>12.557978</td>\n",
       "    </tr>\n",
       "    <tr>\n",
       "      <th>1</th>\n",
       "      <td>SWEDISH ORPHAN BIOVITRUM A/S</td>\n",
       "      <td>19179079</td>\n",
       "      <td>Sorgenfrivej 17</td>\n",
       "      <td>1996-02-08</td>\n",
       "      <td>NORMAL</td>\n",
       "      <td>464610</td>\n",
       "      <td>Engroshandel med medicinalvarer og sygeplejear...</td>\n",
       "      <td>Lyngby-Taarbæk</td>\n",
       "      <td>173</td>\n",
       "      <td>11</td>\n",
       "      <td>...</td>\n",
       "      <td>500000.0</td>\n",
       "      <td>DKK</td>\n",
       "      <td>1.0</td>\n",
       "      <td>0.0</td>\n",
       "      <td>696252.0</td>\n",
       "      <td>35422.0</td>\n",
       "      <td>59.260329</td>\n",
       "      <td>18.194250</td>\n",
       "      <td>55.137627</td>\n",
       "      <td>14.758286</td>\n",
       "    </tr>\n",
       "    <tr>\n",
       "      <th>2</th>\n",
       "      <td>Oticon Denmark A/S</td>\n",
       "      <td>42338028</td>\n",
       "      <td>Kongebakken 9</td>\n",
       "      <td>1972-05-26</td>\n",
       "      <td>NORMAL</td>\n",
       "      <td>465220</td>\n",
       "      <td>Engroshandel med telekommunikationsudstyr</td>\n",
       "      <td>Egedal</td>\n",
       "      <td>240</td>\n",
       "      <td>61</td>\n",
       "      <td>...</td>\n",
       "      <td>1000000.0</td>\n",
       "      <td>DKK</td>\n",
       "      <td>0.0</td>\n",
       "      <td>6.0</td>\n",
       "      <td>383203.0</td>\n",
       "      <td>18336.0</td>\n",
       "      <td>55.762723</td>\n",
       "      <td>12.549633</td>\n",
       "      <td>57.486851</td>\n",
       "      <td>10.337708</td>\n",
       "    </tr>\n",
       "    <tr>\n",
       "      <th>3</th>\n",
       "      <td>BADEN-JENSEN A/S</td>\n",
       "      <td>29167613</td>\n",
       "      <td>Baltorpbakken 16</td>\n",
       "      <td>1970-02-19</td>\n",
       "      <td>NORMAL</td>\n",
       "      <td>467320</td>\n",
       "      <td>Engroshandel med lak, maling, tapet, gulvbelæg...</td>\n",
       "      <td>Ballerup</td>\n",
       "      <td>151</td>\n",
       "      <td>37</td>\n",
       "      <td>...</td>\n",
       "      <td>3600000.0</td>\n",
       "      <td>DKK</td>\n",
       "      <td>0.0</td>\n",
       "      <td>0.0</td>\n",
       "      <td>30477.0</td>\n",
       "      <td>1455.0</td>\n",
       "      <td>55.816496</td>\n",
       "      <td>12.544167</td>\n",
       "      <td>55.731771</td>\n",
       "      <td>12.338362</td>\n",
       "    </tr>\n",
       "    <tr>\n",
       "      <th>4</th>\n",
       "      <td>REITAN CONVENIENCE DENMARK A/S</td>\n",
       "      <td>15516046</td>\n",
       "      <td>Buddingevej 195</td>\n",
       "      <td>1991-10-01</td>\n",
       "      <td>NORMAL</td>\n",
       "      <td>829900</td>\n",
       "      <td>Anden forretningsservice i.a.n.</td>\n",
       "      <td>Gladsaxe</td>\n",
       "      <td>159</td>\n",
       "      <td>63</td>\n",
       "      <td>...</td>\n",
       "      <td>7000000.0</td>\n",
       "      <td>DKK</td>\n",
       "      <td>NaN</td>\n",
       "      <td>NaN</td>\n",
       "      <td>NaN</td>\n",
       "      <td>NaN</td>\n",
       "      <td>NaN</td>\n",
       "      <td>NaN</td>\n",
       "      <td>55.751531</td>\n",
       "      <td>12.496268</td>\n",
       "    </tr>\n",
       "    <tr>\n",
       "      <th>...</th>\n",
       "      <td>...</td>\n",
       "      <td>...</td>\n",
       "      <td>...</td>\n",
       "      <td>...</td>\n",
       "      <td>...</td>\n",
       "      <td>...</td>\n",
       "      <td>...</td>\n",
       "      <td>...</td>\n",
       "      <td>...</td>\n",
       "      <td>...</td>\n",
       "      <td>...</td>\n",
       "      <td>...</td>\n",
       "      <td>...</td>\n",
       "      <td>...</td>\n",
       "      <td>...</td>\n",
       "      <td>...</td>\n",
       "      <td>...</td>\n",
       "      <td>...</td>\n",
       "      <td>...</td>\n",
       "      <td>...</td>\n",
       "      <td>...</td>\n",
       "    </tr>\n",
       "    <tr>\n",
       "      <th>2694</th>\n",
       "      <td>a-round ApS</td>\n",
       "      <td>36082577</td>\n",
       "      <td>Kronborg 10B</td>\n",
       "      <td>2014-08-30</td>\n",
       "      <td>NORMAL</td>\n",
       "      <td>620100</td>\n",
       "      <td>Computerprogrammering</td>\n",
       "      <td>Helsingør</td>\n",
       "      <td>217</td>\n",
       "      <td>12</td>\n",
       "      <td>...</td>\n",
       "      <td>50000.0</td>\n",
       "      <td>DKK</td>\n",
       "      <td>0.0</td>\n",
       "      <td>0.0</td>\n",
       "      <td>1434.0</td>\n",
       "      <td>240.0</td>\n",
       "      <td>56.030743</td>\n",
       "      <td>12.602363</td>\n",
       "      <td>56.039332</td>\n",
       "      <td>12.621799</td>\n",
       "    </tr>\n",
       "    <tr>\n",
       "      <th>2695</th>\n",
       "      <td>A-STORM ApS</td>\n",
       "      <td>35856803</td>\n",
       "      <td>Naverland 31, 1.</td>\n",
       "      <td>2014-05-20</td>\n",
       "      <td>NORMAL</td>\n",
       "      <td>433900</td>\n",
       "      <td>Anden bygningsfærdiggørelse</td>\n",
       "      <td>Albertslund</td>\n",
       "      <td>165</td>\n",
       "      <td>2</td>\n",
       "      <td>...</td>\n",
       "      <td>50000.0</td>\n",
       "      <td>DKK</td>\n",
       "      <td>NaN</td>\n",
       "      <td>NaN</td>\n",
       "      <td>NaN</td>\n",
       "      <td>NaN</td>\n",
       "      <td>NaN</td>\n",
       "      <td>NaN</td>\n",
       "      <td>55.678331</td>\n",
       "      <td>12.374039</td>\n",
       "    </tr>\n",
       "    <tr>\n",
       "      <th>2696</th>\n",
       "      <td>A KASSEN ApS</td>\n",
       "      <td>35630635</td>\n",
       "      <td>Birkedommervej 29, 2.</td>\n",
       "      <td>2014-01-06</td>\n",
       "      <td>NORMAL</td>\n",
       "      <td>900300</td>\n",
       "      <td>Kunstnerisk skaben</td>\n",
       "      <td>København</td>\n",
       "      <td>101</td>\n",
       "      <td>4</td>\n",
       "      <td>...</td>\n",
       "      <td>50000.0</td>\n",
       "      <td>DKK</td>\n",
       "      <td>0.0</td>\n",
       "      <td>18.0</td>\n",
       "      <td>3712.0</td>\n",
       "      <td>698.0</td>\n",
       "      <td>55.687047</td>\n",
       "      <td>12.530250</td>\n",
       "      <td>55.708563</td>\n",
       "      <td>12.527957</td>\n",
       "    </tr>\n",
       "    <tr>\n",
       "      <th>2697</th>\n",
       "      <td>S.A.A. ApS</td>\n",
       "      <td>36046090</td>\n",
       "      <td>Valby Langgade 74</td>\n",
       "      <td>2014-07-15</td>\n",
       "      <td>NORMAL</td>\n",
       "      <td>563000</td>\n",
       "      <td>Cafeér, værtshuse, diskoteker mv.</td>\n",
       "      <td>København</td>\n",
       "      <td>101</td>\n",
       "      <td>1</td>\n",
       "      <td>...</td>\n",
       "      <td>50000.0</td>\n",
       "      <td>DKK</td>\n",
       "      <td>0.0</td>\n",
       "      <td>14.0</td>\n",
       "      <td>11.0</td>\n",
       "      <td>2.0</td>\n",
       "      <td>55.666129</td>\n",
       "      <td>12.512267</td>\n",
       "      <td>55.666147</td>\n",
       "      <td>12.512441</td>\n",
       "    </tr>\n",
       "    <tr>\n",
       "      <th>2698</th>\n",
       "      <td>ALLE OPTIK ApS</td>\n",
       "      <td>51851617</td>\n",
       "      <td>Jægersborg Alle 25</td>\n",
       "      <td>1975-06-01</td>\n",
       "      <td>NORMAL</td>\n",
       "      <td>477810</td>\n",
       "      <td>Optikere</td>\n",
       "      <td>Gentofte</td>\n",
       "      <td>157</td>\n",
       "      <td>10</td>\n",
       "      <td>...</td>\n",
       "      <td>128000.0</td>\n",
       "      <td>DKK</td>\n",
       "      <td>0.0</td>\n",
       "      <td>20.0</td>\n",
       "      <td>11108.0</td>\n",
       "      <td>1356.0</td>\n",
       "      <td>55.676637</td>\n",
       "      <td>12.550706</td>\n",
       "      <td>55.754243</td>\n",
       "      <td>12.569030</td>\n",
       "    </tr>\n",
       "  </tbody>\n",
       "</table>\n",
       "<p>2699 rows × 23 columns</p>\n",
       "</div>"
      ],
      "text/plain": [
       "                                Name       CVR  \\\n",
       "0               POULSEN & HANSEN A/S  76958211   \n",
       "1       SWEDISH ORPHAN BIOVITRUM A/S  19179079   \n",
       "2                 Oticon Denmark A/S  42338028   \n",
       "3                   BADEN-JENSEN A/S  29167613   \n",
       "4     REITAN CONVENIENCE DENMARK A/S  15516046   \n",
       "...                              ...       ...   \n",
       "2694                     a-round ApS  36082577   \n",
       "2695                     A-STORM ApS  35856803   \n",
       "2696                    A KASSEN ApS  35630635   \n",
       "2697                      S.A.A. ApS  36046090   \n",
       "2698                  ALLE OPTIK ApS  51851617   \n",
       "\n",
       "                                        BusinessAddress   StartDate  Status  \\\n",
       "0     C/O Flethøj Ejendomsadministration ApS, Energi...  1985-01-17  NORMAL   \n",
       "1                                       Sorgenfrivej 17  1996-02-08  NORMAL   \n",
       "2                                         Kongebakken 9  1972-05-26  NORMAL   \n",
       "3                                      Baltorpbakken 16  1970-02-19  NORMAL   \n",
       "4                                       Buddingevej 195  1991-10-01  NORMAL   \n",
       "...                                                 ...         ...     ...   \n",
       "2694                                       Kronborg 10B  2014-08-30  NORMAL   \n",
       "2695                                   Naverland 31, 1.  2014-05-20  NORMAL   \n",
       "2696                              Birkedommervej 29, 2.  2014-01-06  NORMAL   \n",
       "2697                                  Valby Langgade 74  2014-07-15  NORMAL   \n",
       "2698                                 Jægersborg Alle 25  1975-06-01  NORMAL   \n",
       "\n",
       "     IndustryCode                                       IndustryName  \\\n",
       "0          682040                     Udlejning af erhvervsejendomme   \n",
       "1          464610  Engroshandel med medicinalvarer og sygeplejear...   \n",
       "2          465220          Engroshandel med telekommunikationsudstyr   \n",
       "3          467320  Engroshandel med lak, maling, tapet, gulvbelæg...   \n",
       "4          829900                    Anden forretningsservice i.a.n.   \n",
       "...           ...                                                ...   \n",
       "2694       620100                              Computerprogrammering   \n",
       "2695       433900                        Anden bygningsfærdiggørelse   \n",
       "2696       900300                                 Kunstnerisk skaben   \n",
       "2697       563000                  Cafeér, værtshuse, diskoteker mv.   \n",
       "2698       477810                                           Optikere   \n",
       "\n",
       "                Area AreaCode NumEmployees  ... RegisteredCapital  \\\n",
       "0          København      101            6  ...          500000.0   \n",
       "1     Lyngby-Taarbæk      173           11  ...          500000.0   \n",
       "2             Egedal      240           61  ...         1000000.0   \n",
       "3           Ballerup      151           37  ...         3600000.0   \n",
       "4           Gladsaxe      159           63  ...         7000000.0   \n",
       "...              ...      ...          ...  ...               ...   \n",
       "2694       Helsingør      217           12  ...           50000.0   \n",
       "2695     Albertslund      165            2  ...           50000.0   \n",
       "2696       København      101            4  ...           50000.0   \n",
       "2697       København      101            1  ...           50000.0   \n",
       "2698        Gentofte      157           10  ...          128000.0   \n",
       "\n",
       "     RegisteredCapitalCurrency NumPeople  NumCars DistanceToBusinessMeters  \\\n",
       "0                          DKK       1.0      6.0                   3237.0   \n",
       "1                          DKK       1.0      0.0                 696252.0   \n",
       "2                          DKK       0.0      6.0                 383203.0   \n",
       "3                          DKK       0.0      0.0                  30477.0   \n",
       "4                          DKK       NaN      NaN                      NaN   \n",
       "...                        ...       ...      ...                      ...   \n",
       "2694                       DKK       0.0      0.0                   1434.0   \n",
       "2695                       DKK       NaN      NaN                      NaN   \n",
       "2696                       DKK       0.0     18.0                   3712.0   \n",
       "2697                       DKK       0.0     14.0                     11.0   \n",
       "2698                       DKK       0.0     20.0                  11108.0   \n",
       "\n",
       "      DistanceToBusinessDriveSeconds  DirectorAddressLatitude  \\\n",
       "0                              606.0                55.671052   \n",
       "1                            35422.0                59.260329   \n",
       "2                            18336.0                55.762723   \n",
       "3                             1455.0                55.816496   \n",
       "4                                NaN                      NaN   \n",
       "...                              ...                      ...   \n",
       "2694                           240.0                56.030743   \n",
       "2695                             NaN                      NaN   \n",
       "2696                           698.0                55.687047   \n",
       "2697                             2.0                55.666129   \n",
       "2698                          1356.0                55.676637   \n",
       "\n",
       "      DirectorAddressLongitude   BusinessAddressLatitude  \\\n",
       "0                     12.561257                55.657727   \n",
       "1                     18.194250                55.137627   \n",
       "2                     12.549633                57.486851   \n",
       "3                     12.544167                55.731771   \n",
       "4                           NaN                55.751531   \n",
       "...                         ...                      ...   \n",
       "2694                  12.602363                56.039332   \n",
       "2695                        NaN                55.678331   \n",
       "2696                  12.530250                55.708563   \n",
       "2697                  12.512267                55.666147   \n",
       "2698                  12.550706                55.754243   \n",
       "\n",
       "      BusinessAddressLongitude  \n",
       "0                    12.557978  \n",
       "1                    14.758286  \n",
       "2                    10.337708  \n",
       "3                    12.338362  \n",
       "4                    12.496268  \n",
       "...                        ...  \n",
       "2694                 12.621799  \n",
       "2695                 12.374039  \n",
       "2696                 12.527957  \n",
       "2697                 12.512441  \n",
       "2698                 12.569030  \n",
       "\n",
       "[2699 rows x 23 columns]"
      ]
     },
     "execution_count": 6,
     "metadata": {},
     "output_type": "execute_result"
    }
   ],
   "source": [
    "df"
   ]
  },
  {
   "cell_type": "code",
   "execution_count": 7,
   "metadata": {},
   "outputs": [
    {
     "data": {
      "text/plain": [
       "33865819054.35"
      ]
     },
     "execution_count": 7,
     "metadata": {},
     "output_type": "execute_result"
    }
   ],
   "source": [
    "df[\"RegisteredCapital\"].sum()"
   ]
  },
  {
   "cell_type": "code",
   "execution_count": 8,
   "metadata": {},
   "outputs": [
    {
     "data": {
      "text/html": [
       "<div>\n",
       "<style scoped>\n",
       "    .dataframe tbody tr th:only-of-type {\n",
       "        vertical-align: middle;\n",
       "    }\n",
       "\n",
       "    .dataframe tbody tr th {\n",
       "        vertical-align: top;\n",
       "    }\n",
       "\n",
       "    .dataframe thead th {\n",
       "        text-align: right;\n",
       "    }\n",
       "</style>\n",
       "<table border=\"1\" class=\"dataframe\">\n",
       "  <thead>\n",
       "    <tr style=\"text-align: right;\">\n",
       "      <th></th>\n",
       "      <th>NumEmployees</th>\n",
       "      <th>RegisteredCapital</th>\n",
       "      <th>NumPeople</th>\n",
       "      <th>NumCars</th>\n",
       "      <th>DistanceToBusinessMeters</th>\n",
       "      <th>DistanceToBusinessDriveSeconds</th>\n",
       "    </tr>\n",
       "  </thead>\n",
       "  <tbody>\n",
       "    <tr>\n",
       "      <th>0</th>\n",
       "      <td>6</td>\n",
       "      <td>500000.0</td>\n",
       "      <td>1.0</td>\n",
       "      <td>6.0</td>\n",
       "      <td>3237.0</td>\n",
       "      <td>606.0</td>\n",
       "    </tr>\n",
       "    <tr>\n",
       "      <th>1</th>\n",
       "      <td>11</td>\n",
       "      <td>500000.0</td>\n",
       "      <td>1.0</td>\n",
       "      <td>0.0</td>\n",
       "      <td>696252.0</td>\n",
       "      <td>35422.0</td>\n",
       "    </tr>\n",
       "    <tr>\n",
       "      <th>2</th>\n",
       "      <td>61</td>\n",
       "      <td>1000000.0</td>\n",
       "      <td>0.0</td>\n",
       "      <td>6.0</td>\n",
       "      <td>383203.0</td>\n",
       "      <td>18336.0</td>\n",
       "    </tr>\n",
       "    <tr>\n",
       "      <th>3</th>\n",
       "      <td>37</td>\n",
       "      <td>3600000.0</td>\n",
       "      <td>0.0</td>\n",
       "      <td>0.0</td>\n",
       "      <td>30477.0</td>\n",
       "      <td>1455.0</td>\n",
       "    </tr>\n",
       "    <tr>\n",
       "      <th>4</th>\n",
       "      <td>63</td>\n",
       "      <td>7000000.0</td>\n",
       "      <td>NaN</td>\n",
       "      <td>NaN</td>\n",
       "      <td>NaN</td>\n",
       "      <td>NaN</td>\n",
       "    </tr>\n",
       "    <tr>\n",
       "      <th>...</th>\n",
       "      <td>...</td>\n",
       "      <td>...</td>\n",
       "      <td>...</td>\n",
       "      <td>...</td>\n",
       "      <td>...</td>\n",
       "      <td>...</td>\n",
       "    </tr>\n",
       "    <tr>\n",
       "      <th>2694</th>\n",
       "      <td>12</td>\n",
       "      <td>50000.0</td>\n",
       "      <td>0.0</td>\n",
       "      <td>0.0</td>\n",
       "      <td>1434.0</td>\n",
       "      <td>240.0</td>\n",
       "    </tr>\n",
       "    <tr>\n",
       "      <th>2695</th>\n",
       "      <td>2</td>\n",
       "      <td>50000.0</td>\n",
       "      <td>NaN</td>\n",
       "      <td>NaN</td>\n",
       "      <td>NaN</td>\n",
       "      <td>NaN</td>\n",
       "    </tr>\n",
       "    <tr>\n",
       "      <th>2696</th>\n",
       "      <td>4</td>\n",
       "      <td>50000.0</td>\n",
       "      <td>0.0</td>\n",
       "      <td>18.0</td>\n",
       "      <td>3712.0</td>\n",
       "      <td>698.0</td>\n",
       "    </tr>\n",
       "    <tr>\n",
       "      <th>2697</th>\n",
       "      <td>1</td>\n",
       "      <td>50000.0</td>\n",
       "      <td>0.0</td>\n",
       "      <td>14.0</td>\n",
       "      <td>11.0</td>\n",
       "      <td>2.0</td>\n",
       "    </tr>\n",
       "    <tr>\n",
       "      <th>2698</th>\n",
       "      <td>10</td>\n",
       "      <td>128000.0</td>\n",
       "      <td>0.0</td>\n",
       "      <td>20.0</td>\n",
       "      <td>11108.0</td>\n",
       "      <td>1356.0</td>\n",
       "    </tr>\n",
       "  </tbody>\n",
       "</table>\n",
       "<p>2699 rows × 6 columns</p>\n",
       "</div>"
      ],
      "text/plain": [
       "     NumEmployees  RegisteredCapital  NumPeople  NumCars  \\\n",
       "0               6           500000.0        1.0      6.0   \n",
       "1              11           500000.0        1.0      0.0   \n",
       "2              61          1000000.0        0.0      6.0   \n",
       "3              37          3600000.0        0.0      0.0   \n",
       "4              63          7000000.0        NaN      NaN   \n",
       "...           ...                ...        ...      ...   \n",
       "2694           12            50000.0        0.0      0.0   \n",
       "2695            2            50000.0        NaN      NaN   \n",
       "2696            4            50000.0        0.0     18.0   \n",
       "2697            1            50000.0        0.0     14.0   \n",
       "2698           10           128000.0        0.0     20.0   \n",
       "\n",
       "      DistanceToBusinessMeters  DistanceToBusinessDriveSeconds  \n",
       "0                       3237.0                           606.0  \n",
       "1                     696252.0                         35422.0  \n",
       "2                     383203.0                         18336.0  \n",
       "3                      30477.0                          1455.0  \n",
       "4                          NaN                             NaN  \n",
       "...                        ...                             ...  \n",
       "2694                    1434.0                           240.0  \n",
       "2695                       NaN                             NaN  \n",
       "2696                    3712.0                           698.0  \n",
       "2697                      11.0                             2.0  \n",
       "2698                   11108.0                          1356.0  \n",
       "\n",
       "[2699 rows x 6 columns]"
      ]
     },
     "execution_count": 8,
     "metadata": {},
     "output_type": "execute_result"
    }
   ],
   "source": [
    "df[['NumEmployees', 'RegisteredCapital', 'NumPeople', 'NumCars', 'DistanceToBusinessMeters', 'DistanceToBusinessDriveSeconds']]"
   ]
  },
  {
   "cell_type": "code",
   "execution_count": 10,
   "metadata": {},
   "outputs": [
    {
     "data": {
      "image/png": "[encoded data removed]",
      "text/plain": [
       "<Figure size 432x288 with 1 Axes>"
      ]
     },
     "metadata": {
      "needs_background": "light"
     },
     "output_type": "display_data"
    }
   ],
   "source": [
    "plt.hist(np.log(df[\"RegisteredCapital\"]))\n",
    "plt.show()"
   ]
  },
  {
   "cell_type": "code",
   "execution_count": 21,
   "metadata": {},
   "outputs": [
    {
     "name": "stdout",
     "output_type": "stream",
     "text": [
      "Summary statistics of RegisteredCapital in DKK for 2758 Companies:\n",
      "\tMin: 40002.0\n",
      "\tQ1: 100000.0\n",
      "\tMedian: 400000.0\n",
      "\tMean: 12547543.2\n",
      "\tQ3: 627020.0\n",
      "\tMax: 17569715000.0\n"
     ]
    }
   ],
   "source": [
    "#Function to print summary statistics of data\n",
    "def summ(X):\n",
    "    print(f\"\\tMin: {min(X)}\")\n",
    "    print(f\"\\tQ1: {np.percentile(X,[25,50,75])[0]}\")\n",
    "    print(f\"\\tMedian: {np.percentile(X,[25,50,75])[1]}\")\n",
    "    print(f\"\\tMean: {round(sum(X)/len(X),1)}\")    \n",
    "    print(f\"\\tQ3: {np.percentile(X,[25,50,75])[2]}\") \n",
    "    print(f\"\\tMax: {max(X)}\")\n",
    "print(\"Summary statistics of RegisteredCapital in DKK for 2758 Companies:\")\n",
    "summ(df[\"RegisteredCapital\"])"
   ]
  },
  {
   "cell_type": "code",
   "execution_count": 8,
   "metadata": {},
   "outputs": [
    {
     "name": "stderr",
     "output_type": "stream",
     "text": [
      "/home/julius/anaconda3/lib/python3.7/site-packages/ipykernel_launcher.py:5: SettingWithCopyWarning: \n",
      "A value is trying to be set on a copy of a slice from a DataFrame\n",
      "\n",
      "See the caveats in the documentation: https://pandas.pydata.org/pandas-docs/stable/user_guide/indexing.html#returning-a-view-versus-a-copy\n",
      "  \"\"\"\n",
      "/home/julius/anaconda3/lib/python3.7/site-packages/ipykernel_launcher.py:7: SettingWithCopyWarning: \n",
      "A value is trying to be set on a copy of a slice from a DataFrame\n",
      "\n",
      "See the caveats in the documentation: https://pandas.pydata.org/pandas-docs/stable/user_guide/indexing.html#returning-a-view-versus-a-copy\n",
      "  import sys\n"
     ]
    }
   ],
   "source": [
    "#Making a copy of the dataframe when changin \"nan\" to 0\n",
    "dfc=df.copy()\n",
    "for i in range(len(dfc)):\n",
    "    if str(dfc[\"NumPeople\"][i]) == \"nan\":\n",
    "        dfc[\"NumPeople\"][i] = 0\n",
    "    if str(dfc[\"NumCars\"][i]) == \"nan\":\n",
    "        dfc[\"NumCars\"][i] = 0"
   ]
  },
  {
   "cell_type": "markdown",
   "metadata": {},
   "source": [
    "## Sci-kit Learn used to analyse the data and create predictors"
   ]
  },
  {
   "cell_type": "code",
   "execution_count": 203,
   "metadata": {},
   "outputs": [],
   "source": [
    "from sklearn.decomposition import PCA\n",
    "from sklearn.linear_model import LinearRegression as Linear\n",
    "from sklearn.preprocessing import RobustScaler\n",
    "from sklearn.linear_model import LogisticRegression as Logistic\n",
    "from sklearn.discriminant_analysis import LinearDiscriminantAnalysis as LDA\n",
    "from sklearn.metrics import f1_score\n",
    "from sklearn.metrics import precision_score\n",
    "from sklearn.metrics import recall_score"
   ]
  },
  {
   "cell_type": "code",
   "execution_count": 9,
   "metadata": {},
   "outputs": [],
   "source": [
    "#Create some versions of the data to potentially use\n",
    "pca=PCA(n_components=1)\n",
    "objects = dfc[[\"NumPeople\",\"NumCars\"]]\n",
    "XX=pca.fit_transform(objects)\n",
    "regcap = df[\"RegisteredCapital\"]"
   ]
  },
  {
   "cell_type": "code",
   "execution_count": 160,
   "metadata": {},
   "outputs": [
    {
     "name": "stdout",
     "output_type": "stream",
     "text": [
      "33259091849.38 607727204.9699999 33865819054.35 0.9820843782341043\n",
      "540 2160 0.20007410151908114 0.8002964060763246\n"
     ]
    }
   ],
   "source": [
    "XY=pd.DataFrame(list(zip(objects[\"NumCars\"],objects[\"NumPeople\"],regcap)))\n",
    "XY.columns =['NumCars', 'NumPeople', 'RegisteredCapital']\n",
    "XY=XY.sort_values(by=\"RegisteredCapital\",ignore_index=True)\n",
    "p20=XY.loc[round(len(XY)*0.8):]\n",
    "p80=XY.loc[:round(len(XY)*0.8)]\n",
    "print(p20[\"RegisteredCapital\"].sum(),p80[\"RegisteredCapital\"].sum(),XY[\"RegisteredCapital\"].sum(),p20[\"RegisteredCapital\"].sum()/XY[\"RegisteredCapital\"].sum())\n",
    "print(len(p20),len(p80),len(p20)/len(XY),len(p80)/len(XY))"
   ]
  },
  {
   "cell_type": "code",
   "execution_count": 190,
   "metadata": {},
   "outputs": [
    {
     "name": "stdout",
     "output_type": "stream",
     "text": [
      "0.6924786958132642\n"
     ]
    }
   ],
   "source": [
    "#Define wealthy company as >500000\n",
    "wealthy=[int]*len(regcap)\n",
    "for i,cap in enumerate(regcap):\n",
    "    if cap > 500000:\n",
    "        wealthy[i]=1\n",
    "    else:\n",
    "        wealthy[i]=0\n",
    "print((len(wealthy)-len([n for n in wealthy if n==1]))/len(wealthy))"
   ]
  },
  {
   "cell_type": "code",
   "execution_count": 188,
   "metadata": {},
   "outputs": [
    {
     "data": {
      "text/plain": [
       "19"
      ]
     },
     "execution_count": 188,
     "metadata": {},
     "output_type": "execute_result"
    }
   ],
   "source": [
    "len([n for n in wealthy if n==1])"
   ]
  },
  {
   "cell_type": "code",
   "execution_count": 167,
   "metadata": {},
   "outputs": [],
   "source": [
    "#Robust transformation\n",
    "median_x = np.percentile(regcap,[25,50,75])[1]\n",
    "q1 = np.percentile(regcap,[25,50,75])[0]\n",
    "q3 = np.percentile(regcap,[25,50,75])[2]\n",
    "regcap_T=[np.float64]*len(regcap)\n",
    "\n",
    "for i in range(len(regcap)):\n",
    "    regcap_T[i]=(regcap[i]-median_x)/(q3-q1)"
   ]
  },
  {
   "cell_type": "code",
   "execution_count": 18,
   "metadata": {},
   "outputs": [
    {
     "name": "stdout",
     "output_type": "stream",
     "text": [
      "\tMin: -0.6830822359682744\n",
      "\tQ1: -0.5692383590755569\n",
      "\tMedian: 0.0\n",
      "\tMean: 23.0\n",
      "\tQ3: 0.43076164092444313\n",
      "\tMax: 33337.09346893856\n"
     ]
    }
   ],
   "source": [
    "summ(regcap_T)"
   ]
  },
  {
   "cell_type": "code",
   "execution_count": 367,
   "metadata": {
    "scrolled": true
   },
   "outputs": [
    {
     "name": "stdout",
     "output_type": "stream",
     "text": [
      "0.002880690519079687\n",
      "f1: 0.4682630178639301\n",
      "p: 0.34203220433092724\n",
      "r: 0.7421686746987952\n",
      "0.48165987402741756\n",
      "0.6924786958132642\n"
     ]
    },
    {
     "name": "stderr",
     "output_type": "stream",
     "text": [
      "/home/julius/anaconda3/lib/python3.7/site-packages/sklearn/linear_model/logistic.py:432: FutureWarning: Default solver will be changed to 'lbfgs' in 0.22. Specify a solver to silence this warning.\n",
      "  FutureWarning)\n"
     ]
    }
   ],
   "source": [
    "#Linear regression on registere capital, logistic and Linear Discriminant Analysis for classifiers\n",
    "reg = Linear()\n",
    "reg.fit(objects,regcap_T)\n",
    "print(reg.score(objects,regcap_T))\n",
    "def mls(x,y):\n",
    "    log = Logistic(class_weight=\"balanced\")\n",
    "    log.fit(x,y)\n",
    "    print(f\"f1: {f1_score(y,log.predict(x))}\")\n",
    "    print(f\"p: {precision_score(y,log.predict(x))}\")\n",
    "    print(f\"r: {recall_score(y,log.predict(x))}\")\n",
    "    print(log.score(x,y))\n",
    "    lda=LDA()\n",
    "    lda.fit(x,y)\n",
    "    ldx=lda.transform(x)\n",
    "    print(lda.score(x,y))\n",
    "mls(objects[[\"NumCars\",\"NumPeople\"]],wealthy)"
   ]
  },
  {
   "cell_type": "code",
   "execution_count": 111,
   "metadata": {},
   "outputs": [
    {
     "name": "stdout",
     "output_type": "stream",
     "text": [
      "1.0\n",
      "0\n",
      "1869\n"
     ]
    }
   ],
   "source": [
    "print(objects[\"NumPeople\"][0])\n",
    "print(wealthy[0])\n",
    "print(len([a[0] for a in zip(objects[\"NumPeople\"],wealthy) if a[1]==0]))"
   ]
  },
  {
   "cell_type": "code",
   "execution_count": null,
   "metadata": {},
   "outputs": [],
   "source": []
  },
  {
   "cell_type": "code",
   "execution_count": 294,
   "metadata": {},
   "outputs": [
    {
     "data": {
      "image/png": "[encoded data removed]",
      "text/plain": [
       "<Figure size 432x288 with 1 Axes>"
      ]
     },
     "metadata": {
      "needs_background": "light"
     },
     "output_type": "display_data"
    }
   ],
   "source": [
    "fig,ax=plt.subplots()\n",
    "ax.scatter(objects[\"NumPeople\"],objects[\"NumCars\"],c=wealthy,cmap=\"bwr\",label=\"wealthy\")\n",
    "ax.legend()\n",
    "ax.set_xlabel(\"People\",size=20)\n",
    "ax.set_ylabel(\"Cars\",size=20)\n",
    "plt.show()"
   ]
  },
  {
   "cell_type": "code",
   "execution_count": 295,
   "metadata": {},
   "outputs": [
    {
     "data": {
      "image/png": "[encoded data removed]",
      "text/plain": [
       "<Figure size 432x288 with 1 Axes>"
      ]
     },
     "metadata": {
      "needs_background": "light"
     },
     "output_type": "display_data"
    }
   ],
   "source": [
    "fig,ax=plt.subplots()\n",
    "ax.scatter([a[0] for a in zip(objects[\"NumPeople\"],wealthy) if a[1]==1],[a[0] for a in zip(objects[\"NumCars\"],wealthy) if a[1]==1],c=\"tab:red\",label=\"Wealthy\")\n",
    "ax.scatter([a[0] for a in zip(objects[\"NumPeople\"],wealthy) if a[1]==0],[a[0] for a in zip(objects[\"NumCars\"],wealthy) if a[1]==0],c=\"tab:blue\",label=\"Not wealthy\")\n",
    "ax.legend()\n",
    "ax.set_xlabel(\"People\",size=20)\n",
    "ax.set_ylabel(\"Cars\",size=20)\n",
    "plt.show()"
   ]
  },
  {
   "cell_type": "code",
   "execution_count": 301,
   "metadata": {},
   "outputs": [],
   "source": [
    "objects=pd.DataFrame(list(zip(objects[\"NumCars\"],objects[\"NumPeople\"],wealthy)))\n",
    "objects.columns =['NumCars', 'NumPeople', 'Wealthy']\n",
    "def splitter(obje):\n",
    "    obj=[]\n",
    "    obj.append(obje[(obje[\"NumCars\"]<6) & (obje[\"NumPeople\"]<6)])\n",
    "    obj.append(obje[(obje[\"NumCars\"]<6) & (obje[\"NumPeople\"]>5) & (obje[\"NumPeople\"]<11)])\n",
    "    obj.append(obje[(obje[\"NumCars\"]<6) & (obje[\"NumPeople\"]>10) & (obje[\"NumPeople\"]<15)])\n",
    "    obj.append(obje[(obje[\"NumCars\"]>5) & (obje[\"NumCars\"]<11) & (obje[\"NumPeople\"]<6)])\n",
    "    obj.append(obje[(obje[\"NumCars\"]>5) & (obje[\"NumCars\"]<11) & (obje[\"NumPeople\"]>5) & (obje[\"NumPeople\"]<11)])\n",
    "    obj.append(obje[(obje[\"NumCars\"]>5) & (obje[\"NumCars\"]<11) & (obje[\"NumPeople\"]>10) & (obje[\"NumPeople\"]<15)])\n",
    "    obj.append(obje[(obje[\"NumCars\"]>10) & (obje[\"NumCars\"]<16) & (obje[\"NumPeople\"]<6)])\n",
    "    obj.append(obje[(obje[\"NumCars\"]>10) & (obje[\"NumCars\"]<16) & (obje[\"NumPeople\"]>5) & (obje[\"NumPeople\"]<11)])\n",
    "    obj.append(obje[(obje[\"NumCars\"]>10) & (obje[\"NumCars\"]<16) & (obje[\"NumPeople\"]>10) & (obje[\"NumPeople\"]<15)])\n",
    "    obj.append(obje[(obje[\"NumCars\"]>15) & (obje[\"NumCars\"]<21) & (obje[\"NumPeople\"]<6)])\n",
    "    obj.append(obje[(obje[\"NumCars\"]>15) & (obje[\"NumCars\"]<21) & (obje[\"NumPeople\"]>5) & (obje[\"NumPeople\"]<11)])\n",
    "    obj.append(obje[(obje[\"NumCars\"]>15) & (obje[\"NumCars\"]<21) & (obje[\"NumPeople\"]>10) & (obje[\"NumPeople\"]<15)])\n",
    "    obj.append(obje[(obje[\"NumCars\"]>20) & (obje[\"NumCars\"]<26) & (obje[\"NumPeople\"]<6)])\n",
    "    obj.append(obje[(obje[\"NumCars\"]>20) & (obje[\"NumCars\"]<26) & (obje[\"NumPeople\"]>5) & (obje[\"NumPeople\"]<11)])\n",
    "    obj.append(obje[(obje[\"NumCars\"]>20) & (obje[\"NumCars\"]<26) & (obje[\"NumPeople\"]>10) & (obje[\"NumPeople\"]<15)])\n",
    "    obj.append(obje[(obje[\"NumCars\"]>25) & (obje[\"NumCars\"]<31) & (obje[\"NumPeople\"]<6)])\n",
    "    obj.append(obje[(obje[\"NumCars\"]>25) & (obje[\"NumCars\"]<31) & (obje[\"NumPeople\"]>5) & (obje[\"NumPeople\"]<11)])\n",
    "    obj.append(obje[(obje[\"NumCars\"]>25) & (obje[\"NumCars\"]<31) & (obje[\"NumPeople\"]>10) & (obje[\"NumPeople\"]<15)])\n",
    "    obj.append(obje[(obje[\"NumCars\"]>30) & (obje[\"NumCars\"]<37) & (obje[\"NumPeople\"]<6)])\n",
    "    obj.append(obje[(obje[\"NumCars\"]>30) & (obje[\"NumCars\"]<37) & (obje[\"NumPeople\"]>5) & (obje[\"NumPeople\"]<11)])\n",
    "    obj.append(obje[(obje[\"NumCars\"]>30) & (obje[\"NumCars\"]<37) & (obje[\"NumPeople\"]>10) & (obje[\"NumPeople\"]<15)])\n",
    "    return obj"
   ]
  },
  {
   "cell_type": "code",
   "execution_count": 298,
   "metadata": {},
   "outputs": [
    {
     "data": {
      "text/plain": [
       "61"
      ]
     },
     "execution_count": 298,
     "metadata": {},
     "output_type": "execute_result"
    }
   ],
   "source": [
    "len(obj[12])\n",
    "#len(objects[(objects[\"NumCars\"]>20)])# & (objects[\"NumPeople\"]<26)])# & (objects[\"NumCars\"]<6)])"
   ]
  },
  {
   "cell_type": "code",
   "execution_count": 313,
   "metadata": {},
   "outputs": [],
   "source": [
    "value=[]\n",
    "obj=splitter(objects)\n",
    "for o in obj:\n",
    "    if len(o)==0:\n",
    "        value.append(o[\"Wealthy\"].sum())\n",
    "    else:\n",
    "        value.append(o[\"Wealthy\"].sum()/len(o))"
   ]
  },
  {
   "cell_type": "code",
   "execution_count": 22,
   "metadata": {},
   "outputs": [
    {
     "data": {
      "image/png": "[encoded data removed]",
      "text/plain": [
       "<Figure size 432x288 with 1 Axes>"
      ]
     },
     "metadata": {
      "needs_background": "light"
     },
     "output_type": "display_data"
    }
   ],
   "source": [
    "plt.scatter(XX,[0]*len(XX),c=wealthy)\n",
    "plt.show()"
   ]
  },
  {
   "cell_type": "code",
   "execution_count": 84,
   "metadata": {},
   "outputs": [
    {
     "ename": "NameError",
     "evalue": "name 'ldx' is not defined",
     "output_type": "error",
     "traceback": [
      "\u001b[0;31m---------------------------------------------------------------------------\u001b[0m",
      "\u001b[0;31mNameError\u001b[0m                                 Traceback (most recent call last)",
      "\u001b[0;32m<ipython-input-84-5b69f0650b38>\u001b[0m in \u001b[0;36m<module>\u001b[0;34m\u001b[0m\n\u001b[0;32m----> 1\u001b[0;31m \u001b[0mplt\u001b[0m\u001b[0;34m.\u001b[0m\u001b[0mscatter\u001b[0m\u001b[0;34m(\u001b[0m\u001b[0mldx\u001b[0m\u001b[0;34m,\u001b[0m\u001b[0;34m[\u001b[0m\u001b[0;36m0\u001b[0m\u001b[0;34m]\u001b[0m\u001b[0;34m*\u001b[0m\u001b[0mlen\u001b[0m\u001b[0;34m(\u001b[0m\u001b[0mldx\u001b[0m\u001b[0;34m)\u001b[0m\u001b[0;34m,\u001b[0m\u001b[0mc\u001b[0m\u001b[0;34m=\u001b[0m\u001b[0mwealthy\u001b[0m\u001b[0;34m)\u001b[0m\u001b[0;34m\u001b[0m\u001b[0;34m\u001b[0m\u001b[0m\n\u001b[0m\u001b[1;32m      2\u001b[0m \u001b[0mplt\u001b[0m\u001b[0;34m.\u001b[0m\u001b[0mshow\u001b[0m\u001b[0;34m(\u001b[0m\u001b[0;34m)\u001b[0m\u001b[0;34m\u001b[0m\u001b[0;34m\u001b[0m\u001b[0m\n",
      "\u001b[0;31mNameError\u001b[0m: name 'ldx' is not defined"
     ]
    }
   ],
   "source": [
    "plt.scatter(ldx,[0]*len(ldx),c=wealthy)\n",
    "plt.show()"
   ]
  },
  {
   "cell_type": "code",
   "execution_count": 24,
   "metadata": {},
   "outputs": [
    {
     "name": "stdout",
     "output_type": "stream",
     "text": [
      "\tMin: 0.0\n",
      "\tQ1: 0.0\n",
      "\tMedian: 0.0\n",
      "\tMean: 0.4\n",
      "\tQ3: 0.0\n",
      "\tMax: 14.0\n",
      "\n",
      "\tMin: 0.0\n",
      "\tQ1: 0.0\n",
      "\tMedian: 2.0\n",
      "\tMean: 4.7\n",
      "\tQ3: 7.0\n",
      "\tMax: 36.0\n"
     ]
    }
   ],
   "source": [
    "summ(objects[\"NumPeople\"])\n",
    "print(\"\")\n",
    "summ(objects[\"NumCars\"])"
   ]
  },
  {
   "cell_type": "code",
   "execution_count": 192,
   "metadata": {},
   "outputs": [
    {
     "data": {
      "text/plain": [
       "0.2819562801037421"
      ]
     },
     "execution_count": 192,
     "metadata": {},
     "output_type": "execute_result"
    }
   ],
   "source": [
    "objects2=pd.DataFrame(list(zip(objects[\"NumCars\"],objects[\"NumPeople\"],wealthy)))\n",
    "objects2.columns =['NumCars', 'NumPeople', 'Wealthy']\n",
    "objects2=objects2.loc[(objects2[\"NumPeople\"]!=0) | (objects2[\"NumCars\"]!=0)]\n",
    "1-len(objects2)/len(objects)"
   ]
  },
  {
   "cell_type": "code",
   "execution_count": 79,
   "metadata": {},
   "outputs": [
    {
     "name": "stdout",
     "output_type": "stream",
     "text": [
      "\tMin: 0.0\n",
      "\tQ1: 0.0\n",
      "\tMedian: 0.0\n",
      "\tMean: 0.6\n",
      "\tQ3: 1.0\n",
      "\tMax: 14.0\n",
      "\n",
      "\tMin: 0.0\n",
      "\tQ1: 2.0\n",
      "\tMedian: 4.0\n",
      "\tMean: 6.6\n",
      "\tQ3: 9.0\n",
      "\tMax: 36.0\n"
     ]
    }
   ],
   "source": [
    "summ(objects2[\"NumPeople\"])\n",
    "print(\"\")\n",
    "summ(objects2[\"NumCars\"])"
   ]
  },
  {
   "cell_type": "code",
   "execution_count": 208,
   "metadata": {},
   "outputs": [
    {
     "name": "stdout",
     "output_type": "stream",
     "text": [
      "f1: 0.44184752365052865\n",
      "p: 0.32119741100323623\n",
      "r: 0.7076648841354723\n",
      "0.4824561403508772\n",
      "0.7105263157894737\n"
     ]
    },
    {
     "name": "stderr",
     "output_type": "stream",
     "text": [
      "/home/julius/anaconda3/lib/python3.7/site-packages/sklearn/linear_model/logistic.py:432: FutureWarning: Default solver will be changed to 'lbfgs' in 0.22. Specify a solver to silence this warning.\n",
      "  FutureWarning)\n"
     ]
    }
   ],
   "source": [
    "#Linear regression on registere capital, logistic and Linear Discriminant Analysis for classifiers\n",
    "X = objects2[[\"NumCars\",\"NumPeople\"]]\n",
    "Y = objects2[\"Wealthy\"]\n",
    "mls(X,Y)"
   ]
  },
  {
   "cell_type": "code",
   "execution_count": 63,
   "metadata": {},
   "outputs": [],
   "source": [
    "objects_w=objects2[objects2[\"Wealthy\"]==1]\n",
    "objects_nw=objects2[objects2[\"Wealthy\"]==0]"
   ]
  },
  {
   "cell_type": "code",
   "execution_count": 65,
   "metadata": {},
   "outputs": [
    {
     "data": {
      "image/png": "[encoded data removed]",
      "text/plain": [
       "<Figure size 432x288 with 1 Axes>"
      ]
     },
     "metadata": {
      "needs_background": "light"
     },
     "output_type": "display_data"
    }
   ],
   "source": [
    "fig,ax=plt.subplots()\n",
    "ax.scatter(objects_w[\"NumPeople\"],objects_w[\"NumCars\"],c=\"tab:red\",label=\"Wealthy\")\n",
    "ax.scatter(objects_nw[\"NumPeople\"],objects_nw[\"NumCars\"],c=\"tab:blue\",label=\"Not wealthy\")\n",
    "ax.legend()\n",
    "ax.set_xlabel(\"Cars\",size=20)\n",
    "ax.set_ylabel(\"People\",size=20)\n",
    "plt.show()"
   ]
  },
  {
   "cell_type": "markdown",
   "metadata": {},
   "source": [
    "## Different Threshholds"
   ]
  },
  {
   "cell_type": "code",
   "execution_count": 211,
   "metadata": {},
   "outputs": [
    {
     "name": "stdout",
     "output_type": "stream",
     "text": [
      "0.4668395702111893 1439\n",
      "0.8266024453501297 468\n",
      "0.9929603556872916 19\n"
     ]
    }
   ],
   "source": [
    "wealthy2=[int]*len(regcap)\n",
    "for i,cap in enumerate(regcap):\n",
    "    if cap > 200000:\n",
    "        wealthy2[i]=1\n",
    "    else:\n",
    "        wealthy2[i]=0\n",
    "print((len(wealthy2)-len([n for n in wealthy2 if n==1]))/len(wealthy2),len([n for n in wealthy2 if n==1]))\n",
    "\n",
    "wealthy3=[int]*len(regcap)\n",
    "for i,cap in enumerate(regcap):\n",
    "    if cap > 1000000:\n",
    "        wealthy3[i]=1\n",
    "    else:\n",
    "        wealthy3[i]=0\n",
    "print((len(wealthy3)-len([n for n in wealthy3 if n==1]))/len(wealthy3),len([n for n in wealthy3 if n==1]))\n",
    "\n",
    "wealthy4=[int]*len(regcap)\n",
    "for i,cap in enumerate(regcap):\n",
    "    if cap > 100000000:\n",
    "        wealthy4[i]=1\n",
    "    else:\n",
    "        wealthy4[i]=0\n",
    "print((len(wealthy4)-len([n for n in wealthy4 if n==1]))/len(wealthy4),len([n for n in wealthy4 if n==1]))"
   ]
  },
  {
   "cell_type": "code",
   "execution_count": 370,
   "metadata": {},
   "outputs": [
    {
     "name": "stdout",
     "output_type": "stream",
     "text": [
      "0.5331604297888106\n"
     ]
    }
   ],
   "source": [
    "print(len([a for a in wealthy2 if a == 1])/len(wealthy2))"
   ]
  },
  {
   "cell_type": "code",
   "execution_count": 368,
   "metadata": {},
   "outputs": [
    {
     "name": "stdout",
     "output_type": "stream",
     "text": [
      "200000:\n",
      "f1: 0.6369230769230769\n",
      "p: 0.571507454445058\n",
      "r: 0.7192494788047255\n",
      "0.5628010374212671\n",
      "0.56168951463505\n",
      "1000000:\n",
      "f1: 0.30225364560318163\n",
      "p: 0.1905292479108635\n",
      "r: 0.7307692307692307\n",
      "0.4149685068543905\n",
      "0.8266024453501297\n",
      "100000000:\n",
      "f1: 0.024258760107816708\n",
      "p: 0.012448132780082987\n",
      "r: 0.47368421052631576\n",
      "0.731752500926269\n",
      "0.9929603556872916\n"
     ]
    },
    {
     "name": "stderr",
     "output_type": "stream",
     "text": [
      "/home/julius/anaconda3/lib/python3.7/site-packages/sklearn/linear_model/logistic.py:432: FutureWarning: Default solver will be changed to 'lbfgs' in 0.22. Specify a solver to silence this warning.\n",
      "  FutureWarning)\n",
      "/home/julius/anaconda3/lib/python3.7/site-packages/sklearn/linear_model/logistic.py:432: FutureWarning: Default solver will be changed to 'lbfgs' in 0.22. Specify a solver to silence this warning.\n",
      "  FutureWarning)\n",
      "/home/julius/anaconda3/lib/python3.7/site-packages/sklearn/linear_model/logistic.py:432: FutureWarning: Default solver will be changed to 'lbfgs' in 0.22. Specify a solver to silence this warning.\n",
      "  FutureWarning)\n"
     ]
    }
   ],
   "source": [
    "print(\"200000:\")\n",
    "mls(objects[[\"NumCars\",\"NumPeople\"]],wealthy2)\n",
    "print(\"1000000:\")\n",
    "mls(objects[[\"NumCars\",\"NumPeople\"]],wealthy3)\n",
    "print(\"100000000:\")\n",
    "mls(objects[[\"NumCars\",\"NumPeople\"]],wealthy4)"
   ]
  },
  {
   "cell_type": "code",
   "execution_count": 304,
   "metadata": {},
   "outputs": [],
   "source": [
    "objects3=pd.DataFrame(list(zip(objects[\"NumCars\"],objects[\"NumPeople\"],wealthy2)))\n",
    "objects3.columns =['NumCars', 'NumPeople', 'Wealthy']"
   ]
  },
  {
   "cell_type": "code",
   "execution_count": 312,
   "metadata": {},
   "outputs": [],
   "source": [
    "value2=[]\n",
    "obj=splitter(objects3)\n",
    "for o in obj:\n",
    "    if len(o)==0:\n",
    "        value2.append(o[\"Wealthy\"].sum())\n",
    "    else:\n",
    "        value2.append(o[\"Wealthy\"].sum()/len(o))"
   ]
  },
  {
   "cell_type": "code",
   "execution_count": 355,
   "metadata": {},
   "outputs": [
    {
     "data": {
      "image/png": "[encoded data removed]",
      "text/plain": [
       "<Figure size 432x288 with 2 Axes>"
      ]
     },
     "metadata": {
      "needs_background": "light"
     },
     "output_type": "display_data"
    }
   ],
   "source": [
    "People = [\"0-5\", \"6-10\", \"11-15\", \"16-20\", \"21-25\", \"26-30\", \"31-36\"]\n",
    "People.reverse()\n",
    "Cars = [\"0-5\", \"6-10\", \"11-14\"]\n",
    "\n",
    "vlue = []\n",
    "for i in range(7):\n",
    "    v=[]\n",
    "    for j in range(3):\n",
    "        v.append(round(value2[i*3+j],2))\n",
    "    vlue.append(v)\n",
    "vlue.reverse()\n",
    "vlue = np.array(vlue,dtype=np.float)\n",
    "\n",
    "fig, (ax1, ax2) = plt.subplots(1,2)\n",
    "im = ax1.imshow(vlue,cmap=\"Greens\")\n",
    "# Show all ticks and label them with the respective list entries\n",
    "ax1.set_xticks(np.arange(len(Cars)))\n",
    "ax1.set_yticks(np.arange(len(People)))\n",
    "\n",
    "ax1.set_xticklabels(Cars)\n",
    "ax1.set_yticklabels(People)\n",
    "ax1.set_xlabel(\"Cars\", size=15)\n",
    "ax1.set_ylabel(\"People\", size=17)\n",
    "\n",
    "# Rotate the tick labels and set their alignment.\n",
    "plt.setp(ax1.get_xticklabels(), rotation=45, ha=\"right\",\n",
    "         rotation_mode=\"anchor\")\n",
    "\n",
    "# Loop over data dimensions and create text annotations.\n",
    "for i in range(len(People)):\n",
    "    for j in range(len(Cars)):\n",
    "        text = ax1.text(j, i, vlue[i, j],\n",
    "                       ha=\"center\", va=\"center\", color=\"black\")\n",
    "\n",
    "ax1.set_title(\"Threshold: 200,000\", size=15)\n",
    "\n",
    "vlue = []\n",
    "for i in range(7):\n",
    "    v=[]\n",
    "    for j in range(3):\n",
    "        v.append(round(value[i*3+j],2))\n",
    "    vlue.append(v)\n",
    "vlue.reverse()\n",
    "vlue = np.array(vlue,dtype=np.float)\n",
    "\n",
    "#fig, ax = plt.subplots()\n",
    "im = ax2.imshow(vlue,cmap=\"Greens\")\n",
    "\n",
    "# Show all ticks and label them with the respective list entries\n",
    "ax2.set_xticks(np.arange(len(Cars)))\n",
    "ax2.set_yticks(np.arange(len(People)))\n",
    "\n",
    "ax2.set_xticklabels(Cars)\n",
    "ax2.set_yticklabels(People)\n",
    "ax2.set_xlabel(\"Cars\", size=15)\n",
    "\n",
    "# Rotate the tick labels and set their alignment.\n",
    "plt.setp(ax2.get_xticklabels(), rotation=45, ha=\"right\",\n",
    "         rotation_mode=\"anchor\")\n",
    "\n",
    "# Loop over data dimensions and create text annotations.\n",
    "for i in range(len(People)):\n",
    "    for j in range(len(Cars)):\n",
    "        text = ax2.text(j, i, vlue[i, j],\n",
    "                       ha=\"center\", va=\"center\", color=\"black\")\n",
    "\n",
    "ax2.set_title(\"Threshold: 500,000\", size=15)\n",
    "plt.show()"
   ]
  },
  {
   "cell_type": "markdown",
   "metadata": {},
   "source": [
    "# Ignore"
   ]
  },
  {
   "cell_type": "code",
   "execution_count": 82,
   "metadata": {},
   "outputs": [
    {
     "name": "stdout",
     "output_type": "stream",
     "text": [
      "0.1935483870967742\n",
      "0.212253829321663\n",
      "0.2261904761904762\n",
      "0.3243445692883895\n",
      "\n",
      "62\n",
      "457\n",
      "84\n",
      "1335\n"
     ]
    }
   ],
   "source": [
    "aa=objects2[objects2[\"NumCars\"]>8]\n",
    "aa=aa[aa[\"NumPeople\"]>2]\n",
    "ab=objects2[objects2[\"NumCars\"]>8]\n",
    "ab=ab[ab[\"NumPeople\"]<=2]\n",
    "ba=objects2[objects2[\"NumCars\"]<=8]\n",
    "ba=ba[ba[\"NumPeople\"]>2]\n",
    "bb=objects2[objects2[\"NumCars\"]<=8]\n",
    "bb=bb[bb[\"NumPeople\"]<=2]\n",
    "print(len(aa[aa[\"Wealthy\"]==1])/len(aa))\n",
    "print(len(ab[ab[\"Wealthy\"]==1])/len(ab))\n",
    "print(len(ba[ba[\"Wealthy\"]==1])/len(ba))\n",
    "print(len(bb[bb[\"Wealthy\"]==1])/len(bb))\n",
    "print(\"\")\n",
    "print(len(aa))\n",
    "print(len(ab))\n",
    "print(len(ba))\n",
    "print(len(bb))"
   ]
  },
  {
   "cell_type": "code",
   "execution_count": 83,
   "metadata": {},
   "outputs": [
    {
     "name": "stdout",
     "output_type": "stream",
     "text": [
      "0.2417910447761194\n",
      "0.2782608695652174\n",
      "0.3028571428571429\n",
      "0.3467297084318361\n",
      "\n",
      "335\n",
      "920\n",
      "175\n",
      "1269\n"
     ]
    }
   ],
   "source": [
    "objects3=pd.DataFrame(list(zip(objects[\"NumCars\"],objects[\"NumPeople\"],wealthy)))\n",
    "objects3.columns =['NumCars', 'NumPeople', 'Wealthy']\n",
    "aa=objects3[objects3[\"NumCars\"]>2]\n",
    "aa=aa[aa[\"NumPeople\"]>0]\n",
    "ab=objects3[objects3[\"NumCars\"]>2]\n",
    "ab=ab[ab[\"NumPeople\"]<=0]\n",
    "ba=objects3[objects3[\"NumCars\"]<=2]\n",
    "ba=ba[ba[\"NumPeople\"]>0]\n",
    "bb=objects3[objects3[\"NumCars\"]<=2]\n",
    "bb=bb[bb[\"NumPeople\"]<=0]\n",
    "print(len(aa[aa[\"Wealthy\"]==1])/len(aa))\n",
    "print(len(ab[ab[\"Wealthy\"]==1])/len(ab))\n",
    "print(len(ba[ba[\"Wealthy\"]==1])/len(ba))\n",
    "print(len(bb[bb[\"Wealthy\"]==1])/len(bb))\n",
    "print(\"\")\n",
    "print(len(aa))\n",
    "print(len(ab))\n",
    "print(len(ba))\n",
    "print(len(bb))"
   ]
  }
 ],
 "metadata": {
  "kernelspec": {
   "display_name": "Python 3",
   "language": "python",
   "name": "python3"
  },
  "language_info": {
   "codemirror_mode": {
    "name": "ipython",
    "version": 3
   },
   "file_extension": ".py",
   "mimetype": "text/x-python",
   "name": "python",
   "nbconvert_exporter": "python",
   "pygments_lexer": "ipython3",
   "version": "3.7.3"
  }
 },
 "nbformat": 4,
 "nbformat_minor": 5
}
