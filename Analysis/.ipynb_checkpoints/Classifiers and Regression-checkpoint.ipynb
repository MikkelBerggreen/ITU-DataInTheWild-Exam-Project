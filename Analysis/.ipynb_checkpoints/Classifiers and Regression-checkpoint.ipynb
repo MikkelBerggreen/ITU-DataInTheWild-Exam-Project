{
 "cells": [
  {
   "cell_type": "code",
   "execution_count": 4,
   "metadata": {},
   "outputs": [
    {
     "name": "stderr",
     "output_type": "stream",
     "text": [
      "/home/julius/anaconda3/lib/python3.7/site-packages/statsmodels/tools/_testing.py:19: FutureWarning: pandas.util.testing is deprecated. Use the functions in the public API at pandas.testing instead.\n",
      "  import pandas.util.testing as tm\n"
     ]
    }
   ],
   "source": [
    "import pandas as pd\n",
    "import numpy as np\n",
    "import json\n",
    "import seaborn as sns\n",
    "import matplotlib.pyplot as plt"
   ]
  },
  {
   "cell_type": "markdown",
   "metadata": {},
   "source": [
    "## Parsing and cleaning"
   ]
  },
  {
   "cell_type": "code",
   "execution_count": 390,
   "metadata": {},
   "outputs": [
    {
     "data": {
      "text/html": [
       "<div>\n",
       "<style scoped>\n",
       "    .dataframe tbody tr th:only-of-type {\n",
       "        vertical-align: middle;\n",
       "    }\n",
       "\n",
       "    .dataframe tbody tr th {\n",
       "        vertical-align: top;\n",
       "    }\n",
       "\n",
       "    .dataframe thead th {\n",
       "        text-align: right;\n",
       "    }\n",
       "</style>\n",
       "<table border=\"1\" class=\"dataframe\">\n",
       "  <thead>\n",
       "    <tr style=\"text-align: right;\">\n",
       "      <th></th>\n",
       "      <th>Name</th>\n",
       "      <th>CVR</th>\n",
       "      <th>BusinessAddress</th>\n",
       "      <th>StartDate</th>\n",
       "      <th>Status</th>\n",
       "      <th>IndustryCode</th>\n",
       "      <th>IndustryName</th>\n",
       "      <th>Area</th>\n",
       "      <th>AreaCode</th>\n",
       "      <th>NumEmployees</th>\n",
       "      <th>...</th>\n",
       "      <th>DistanceToBusinessMeters</th>\n",
       "      <th>DistanceToBusinessDriveSeconds</th>\n",
       "      <th>DirectorAddressLatitude</th>\n",
       "      <th>DirectorAddressLongitude</th>\n",
       "      <th>BusinessAddressLatitude</th>\n",
       "      <th>BusinessAddressLongitude</th>\n",
       "      <th>StartYear</th>\n",
       "      <th>StartDecade</th>\n",
       "      <th>IndustryShortCode</th>\n",
       "      <th>IndustryGroup</th>\n",
       "    </tr>\n",
       "  </thead>\n",
       "  <tbody>\n",
       "    <tr>\n",
       "      <th>0</th>\n",
       "      <td>POULSEN &amp; HANSEN A/S</td>\n",
       "      <td>76958211</td>\n",
       "      <td>C/O Flethøj Ejendomsadministration ApS, Energi...</td>\n",
       "      <td>1985-01-17</td>\n",
       "      <td>NORMAL</td>\n",
       "      <td>682040</td>\n",
       "      <td>Udlejning af erhvervsejendomme</td>\n",
       "      <td>København</td>\n",
       "      <td>101</td>\n",
       "      <td>6</td>\n",
       "      <td>...</td>\n",
       "      <td>3237.0</td>\n",
       "      <td>606.0</td>\n",
       "      <td>55.671052</td>\n",
       "      <td>12.561257</td>\n",
       "      <td>55.657727</td>\n",
       "      <td>12.557978</td>\n",
       "      <td>1985</td>\n",
       "      <td>1980</td>\n",
       "      <td>68</td>\n",
       "      <td>Fast ejendom</td>\n",
       "    </tr>\n",
       "    <tr>\n",
       "      <th>1</th>\n",
       "      <td>SWEDISH ORPHAN BIOVITRUM A/S</td>\n",
       "      <td>19179079</td>\n",
       "      <td>Sorgenfrivej 17</td>\n",
       "      <td>1996-02-08</td>\n",
       "      <td>NORMAL</td>\n",
       "      <td>464610</td>\n",
       "      <td>Engroshandel med medicinalvarer og sygeplejear...</td>\n",
       "      <td>Lyngby-Taarbæk</td>\n",
       "      <td>173</td>\n",
       "      <td>11</td>\n",
       "      <td>...</td>\n",
       "      <td>696252.0</td>\n",
       "      <td>35422.0</td>\n",
       "      <td>59.260329</td>\n",
       "      <td>18.194249</td>\n",
       "      <td>55.137627</td>\n",
       "      <td>14.758286</td>\n",
       "      <td>1996</td>\n",
       "      <td>1990</td>\n",
       "      <td>46</td>\n",
       "      <td>Engros og detail.; rep. af motorkøretøjer og -...</td>\n",
       "    </tr>\n",
       "    <tr>\n",
       "      <th>2</th>\n",
       "      <td>Oticon Denmark A/S</td>\n",
       "      <td>42338028</td>\n",
       "      <td>Kongebakken 9</td>\n",
       "      <td>1972-05-26</td>\n",
       "      <td>NORMAL</td>\n",
       "      <td>465220</td>\n",
       "      <td>Engroshandel med telekommunikationsudstyr</td>\n",
       "      <td>Egedal</td>\n",
       "      <td>240</td>\n",
       "      <td>61</td>\n",
       "      <td>...</td>\n",
       "      <td>383203.0</td>\n",
       "      <td>18336.0</td>\n",
       "      <td>55.762722</td>\n",
       "      <td>12.549633</td>\n",
       "      <td>57.486851</td>\n",
       "      <td>10.337709</td>\n",
       "      <td>1972</td>\n",
       "      <td>1970</td>\n",
       "      <td>46</td>\n",
       "      <td>Engros og detail.; rep. af motorkøretøjer og -...</td>\n",
       "    </tr>\n",
       "    <tr>\n",
       "      <th>3</th>\n",
       "      <td>BADEN-JENSEN A/S</td>\n",
       "      <td>29167613</td>\n",
       "      <td>Baltorpbakken 16</td>\n",
       "      <td>1970-02-19</td>\n",
       "      <td>NORMAL</td>\n",
       "      <td>467320</td>\n",
       "      <td>Engroshandel med lak, maling, tapet, gulvbelæg...</td>\n",
       "      <td>Ballerup</td>\n",
       "      <td>151</td>\n",
       "      <td>37</td>\n",
       "      <td>...</td>\n",
       "      <td>30477.0</td>\n",
       "      <td>1455.0</td>\n",
       "      <td>55.816496</td>\n",
       "      <td>12.544167</td>\n",
       "      <td>55.731771</td>\n",
       "      <td>12.338362</td>\n",
       "      <td>1970</td>\n",
       "      <td>1970</td>\n",
       "      <td>46</td>\n",
       "      <td>Engros og detail.; rep. af motorkøretøjer og -...</td>\n",
       "    </tr>\n",
       "    <tr>\n",
       "      <th>4</th>\n",
       "      <td>REITAN CONVENIENCE DENMARK A/S</td>\n",
       "      <td>15516046</td>\n",
       "      <td>Buddingevej 195</td>\n",
       "      <td>1991-10-01</td>\n",
       "      <td>NORMAL</td>\n",
       "      <td>829900</td>\n",
       "      <td>Anden forretningsservice i.a.n.</td>\n",
       "      <td>Gladsaxe</td>\n",
       "      <td>159</td>\n",
       "      <td>63</td>\n",
       "      <td>...</td>\n",
       "      <td>NaN</td>\n",
       "      <td>NaN</td>\n",
       "      <td>NaN</td>\n",
       "      <td>NaN</td>\n",
       "      <td>55.751531</td>\n",
       "      <td>12.496268</td>\n",
       "      <td>1991</td>\n",
       "      <td>1990</td>\n",
       "      <td>82</td>\n",
       "      <td>Administrative tjenesteydelser og hjælpetjenester</td>\n",
       "    </tr>\n",
       "    <tr>\n",
       "      <th>...</th>\n",
       "      <td>...</td>\n",
       "      <td>...</td>\n",
       "      <td>...</td>\n",
       "      <td>...</td>\n",
       "      <td>...</td>\n",
       "      <td>...</td>\n",
       "      <td>...</td>\n",
       "      <td>...</td>\n",
       "      <td>...</td>\n",
       "      <td>...</td>\n",
       "      <td>...</td>\n",
       "      <td>...</td>\n",
       "      <td>...</td>\n",
       "      <td>...</td>\n",
       "      <td>...</td>\n",
       "      <td>...</td>\n",
       "      <td>...</td>\n",
       "      <td>...</td>\n",
       "      <td>...</td>\n",
       "      <td>...</td>\n",
       "      <td>...</td>\n",
       "    </tr>\n",
       "    <tr>\n",
       "      <th>2164</th>\n",
       "      <td>M A T ApS</td>\n",
       "      <td>26596300</td>\n",
       "      <td>Gersonsvej 7</td>\n",
       "      <td>2002-05-02</td>\n",
       "      <td>NORMAL</td>\n",
       "      <td>464210</td>\n",
       "      <td>Engroshandel med beklædning</td>\n",
       "      <td>Gentofte</td>\n",
       "      <td>157</td>\n",
       "      <td>18</td>\n",
       "      <td>...</td>\n",
       "      <td>4973.0</td>\n",
       "      <td>554.0</td>\n",
       "      <td>55.769713</td>\n",
       "      <td>12.585628</td>\n",
       "      <td>55.733208</td>\n",
       "      <td>12.566897</td>\n",
       "      <td>2002</td>\n",
       "      <td>2000</td>\n",
       "      <td>46</td>\n",
       "      <td>Engros og detail.; rep. af motorkøretøjer og -...</td>\n",
       "    </tr>\n",
       "    <tr>\n",
       "      <th>2165</th>\n",
       "      <td>F.A. CONSULTING A/S</td>\n",
       "      <td>27080049</td>\n",
       "      <td>Herlev Ringvej 2C, 1.</td>\n",
       "      <td>2003-01-02</td>\n",
       "      <td>NORMAL</td>\n",
       "      <td>620200</td>\n",
       "      <td>Konsulentbistand vedrørende informationsteknologi</td>\n",
       "      <td>Herlev</td>\n",
       "      <td>163</td>\n",
       "      <td>2</td>\n",
       "      <td>...</td>\n",
       "      <td>15683.0</td>\n",
       "      <td>1169.0</td>\n",
       "      <td>55.708582</td>\n",
       "      <td>12.597020</td>\n",
       "      <td>55.723171</td>\n",
       "      <td>12.441770</td>\n",
       "      <td>2003</td>\n",
       "      <td>2000</td>\n",
       "      <td>62</td>\n",
       "      <td>Information og kommunikation</td>\n",
       "    </tr>\n",
       "    <tr>\n",
       "      <th>2166</th>\n",
       "      <td>A-SAFE ApS</td>\n",
       "      <td>35252932</td>\n",
       "      <td>Rugvænget 46A, 1.</td>\n",
       "      <td>2013-06-01</td>\n",
       "      <td>NORMAL</td>\n",
       "      <td>467400</td>\n",
       "      <td>Engroshandel med isenkram, varmeanlæg og tilbehør</td>\n",
       "      <td>Høje Taastrup</td>\n",
       "      <td>169</td>\n",
       "      <td>4</td>\n",
       "      <td>...</td>\n",
       "      <td>1568078.0</td>\n",
       "      <td>64420.0</td>\n",
       "      <td>53.706530</td>\n",
       "      <td>-1.875317</td>\n",
       "      <td>55.649471</td>\n",
       "      <td>12.285993</td>\n",
       "      <td>2013</td>\n",
       "      <td>2010</td>\n",
       "      <td>46</td>\n",
       "      <td>Engros og detail.; rep. af motorkøretøjer og -...</td>\n",
       "    </tr>\n",
       "    <tr>\n",
       "      <th>2167</th>\n",
       "      <td>A.A. EL-CENTER A/S</td>\n",
       "      <td>66358119</td>\n",
       "      <td>Krondalvej 7</td>\n",
       "      <td>1980-10-29</td>\n",
       "      <td>NORMAL</td>\n",
       "      <td>432100</td>\n",
       "      <td>El-installation</td>\n",
       "      <td>Rødovre</td>\n",
       "      <td>175</td>\n",
       "      <td>5</td>\n",
       "      <td>...</td>\n",
       "      <td>4805.0</td>\n",
       "      <td>544.0</td>\n",
       "      <td>55.671301</td>\n",
       "      <td>12.405901</td>\n",
       "      <td>55.700383</td>\n",
       "      <td>12.434073</td>\n",
       "      <td>1980</td>\n",
       "      <td>1980</td>\n",
       "      <td>43</td>\n",
       "      <td>Bygge- og anlægsvirksomhed</td>\n",
       "    </tr>\n",
       "    <tr>\n",
       "      <th>2168</th>\n",
       "      <td>ALLE OPTIK ApS</td>\n",
       "      <td>51851617</td>\n",
       "      <td>Jægersborg Alle 25</td>\n",
       "      <td>1975-06-01</td>\n",
       "      <td>NORMAL</td>\n",
       "      <td>477810</td>\n",
       "      <td>Optikere</td>\n",
       "      <td>Gentofte</td>\n",
       "      <td>157</td>\n",
       "      <td>10</td>\n",
       "      <td>...</td>\n",
       "      <td>11108.0</td>\n",
       "      <td>1356.0</td>\n",
       "      <td>55.676637</td>\n",
       "      <td>12.550706</td>\n",
       "      <td>55.754243</td>\n",
       "      <td>12.569030</td>\n",
       "      <td>1975</td>\n",
       "      <td>1970</td>\n",
       "      <td>47</td>\n",
       "      <td>Engros og detail.; rep. af motorkøretøjer og -...</td>\n",
       "    </tr>\n",
       "  </tbody>\n",
       "</table>\n",
       "<p>2169 rows × 27 columns</p>\n",
       "</div>"
      ],
      "text/plain": [
       "                                Name       CVR  \\\n",
       "0               POULSEN & HANSEN A/S  76958211   \n",
       "1       SWEDISH ORPHAN BIOVITRUM A/S  19179079   \n",
       "2                 Oticon Denmark A/S  42338028   \n",
       "3                   BADEN-JENSEN A/S  29167613   \n",
       "4     REITAN CONVENIENCE DENMARK A/S  15516046   \n",
       "...                              ...       ...   \n",
       "2164                       M A T ApS  26596300   \n",
       "2165             F.A. CONSULTING A/S  27080049   \n",
       "2166                      A-SAFE ApS  35252932   \n",
       "2167              A.A. EL-CENTER A/S  66358119   \n",
       "2168                  ALLE OPTIK ApS  51851617   \n",
       "\n",
       "                                        BusinessAddress   StartDate  Status  \\\n",
       "0     C/O Flethøj Ejendomsadministration ApS, Energi...  1985-01-17  NORMAL   \n",
       "1                                       Sorgenfrivej 17  1996-02-08  NORMAL   \n",
       "2                                         Kongebakken 9  1972-05-26  NORMAL   \n",
       "3                                      Baltorpbakken 16  1970-02-19  NORMAL   \n",
       "4                                       Buddingevej 195  1991-10-01  NORMAL   \n",
       "...                                                 ...         ...     ...   \n",
       "2164                                       Gersonsvej 7  2002-05-02  NORMAL   \n",
       "2165                              Herlev Ringvej 2C, 1.  2003-01-02  NORMAL   \n",
       "2166                                  Rugvænget 46A, 1.  2013-06-01  NORMAL   \n",
       "2167                                       Krondalvej 7  1980-10-29  NORMAL   \n",
       "2168                                 Jægersborg Alle 25  1975-06-01  NORMAL   \n",
       "\n",
       "      IndustryCode                                       IndustryName  \\\n",
       "0           682040                     Udlejning af erhvervsejendomme   \n",
       "1           464610  Engroshandel med medicinalvarer og sygeplejear...   \n",
       "2           465220          Engroshandel med telekommunikationsudstyr   \n",
       "3           467320  Engroshandel med lak, maling, tapet, gulvbelæg...   \n",
       "4           829900                    Anden forretningsservice i.a.n.   \n",
       "...            ...                                                ...   \n",
       "2164        464210                        Engroshandel med beklædning   \n",
       "2165        620200  Konsulentbistand vedrørende informationsteknologi   \n",
       "2166        467400  Engroshandel med isenkram, varmeanlæg og tilbehør   \n",
       "2167        432100                                    El-installation   \n",
       "2168        477810                                           Optikere   \n",
       "\n",
       "                Area  AreaCode  NumEmployees  ... DistanceToBusinessMeters  \\\n",
       "0          København       101             6  ...                   3237.0   \n",
       "1     Lyngby-Taarbæk       173            11  ...                 696252.0   \n",
       "2             Egedal       240            61  ...                 383203.0   \n",
       "3           Ballerup       151            37  ...                  30477.0   \n",
       "4           Gladsaxe       159            63  ...                      NaN   \n",
       "...              ...       ...           ...  ...                      ...   \n",
       "2164        Gentofte       157            18  ...                   4973.0   \n",
       "2165          Herlev       163             2  ...                  15683.0   \n",
       "2166   Høje Taastrup       169             4  ...                1568078.0   \n",
       "2167         Rødovre       175             5  ...                   4805.0   \n",
       "2168        Gentofte       157            10  ...                  11108.0   \n",
       "\n",
       "     DistanceToBusinessDriveSeconds  DirectorAddressLatitude  \\\n",
       "0                             606.0                55.671052   \n",
       "1                           35422.0                59.260329   \n",
       "2                           18336.0                55.762722   \n",
       "3                            1455.0                55.816496   \n",
       "4                               NaN                      NaN   \n",
       "...                             ...                      ...   \n",
       "2164                          554.0                55.769713   \n",
       "2165                         1169.0                55.708582   \n",
       "2166                        64420.0                53.706530   \n",
       "2167                          544.0                55.671301   \n",
       "2168                         1356.0                55.676637   \n",
       "\n",
       "      DirectorAddressLongitude  BusinessAddressLatitude  \\\n",
       "0                     12.561257               55.657727   \n",
       "1                     18.194249               55.137627   \n",
       "2                     12.549633               57.486851   \n",
       "3                     12.544167               55.731771   \n",
       "4                           NaN               55.751531   \n",
       "...                         ...                     ...   \n",
       "2164                  12.585628               55.733208   \n",
       "2165                  12.597020               55.723171   \n",
       "2166                  -1.875317               55.649471   \n",
       "2167                  12.405901               55.700383   \n",
       "2168                  12.550706               55.754243   \n",
       "\n",
       "      BusinessAddressLongitude  StartYear  StartDecade  IndustryShortCode  \\\n",
       "0                    12.557978       1985         1980                 68   \n",
       "1                    14.758286       1996         1990                 46   \n",
       "2                    10.337709       1972         1970                 46   \n",
       "3                    12.338362       1970         1970                 46   \n",
       "4                    12.496268       1991         1990                 82   \n",
       "...                        ...        ...          ...                ...   \n",
       "2164                 12.566897       2002         2000                 46   \n",
       "2165                 12.441770       2003         2000                 62   \n",
       "2166                 12.285993       2013         2010                 46   \n",
       "2167                 12.434073       1980         1980                 43   \n",
       "2168                 12.569030       1975         1970                 47   \n",
       "\n",
       "                                          IndustryGroup  \n",
       "0                                          Fast ejendom  \n",
       "1     Engros og detail.; rep. af motorkøretøjer og -...  \n",
       "2     Engros og detail.; rep. af motorkøretøjer og -...  \n",
       "3     Engros og detail.; rep. af motorkøretøjer og -...  \n",
       "4     Administrative tjenesteydelser og hjælpetjenester  \n",
       "...                                                 ...  \n",
       "2164  Engros og detail.; rep. af motorkøretøjer og -...  \n",
       "2165                       Information og kommunikation  \n",
       "2166  Engros og detail.; rep. af motorkøretøjer og -...  \n",
       "2167                         Bygge- og anlægsvirksomhed  \n",
       "2168  Engros og detail.; rep. af motorkøretøjer og -...  \n",
       "\n",
       "[2169 rows x 27 columns]"
      ]
     },
     "execution_count": 390,
     "metadata": {},
     "output_type": "execute_result"
    }
   ],
   "source": [
    "df = pd.read_csv(\"data_v6.csv\")\n",
    "df"
   ]
  },
  {
   "cell_type": "code",
   "execution_count": 391,
   "metadata": {},
   "outputs": [
    {
     "data": {
      "text/plain": [
       "Name                               object\n",
       "CVR                                 int64\n",
       "BusinessAddress                    object\n",
       "StartDate                          object\n",
       "Status                             object\n",
       "IndustryCode                        int64\n",
       "IndustryName                       object\n",
       "Area                               object\n",
       "AreaCode                            int64\n",
       "NumEmployees                        int64\n",
       "DirectorName                       object\n",
       "DirectorAddress                    object\n",
       "DirectorId                          int64\n",
       "RegisteredCapital                 float64\n",
       "RegisteredCapitalCurrency          object\n",
       "NumPeople                         float64\n",
       "NumCars                           float64\n",
       "DistanceToBusinessMeters          float64\n",
       "DistanceToBusinessDriveSeconds    float64\n",
       "DirectorAddressLatitude           float64\n",
       "DirectorAddressLongitude          float64\n",
       "BusinessAddressLatitude           float64\n",
       "BusinessAddressLongitude          float64\n",
       "StartYear                           int64\n",
       "StartDecade                         int64\n",
       "IndustryShortCode                   int64\n",
       "IndustryGroup                      object\n",
       "dtype: object"
      ]
     },
     "execution_count": 391,
     "metadata": {},
     "output_type": "execute_result"
    }
   ],
   "source": [
    "df.dtypes"
   ]
  },
  {
   "cell_type": "code",
   "execution_count": 429,
   "metadata": {},
   "outputs": [
    {
     "data": {
      "text/plain": [
       "9292139.0"
      ]
     },
     "execution_count": 429,
     "metadata": {},
     "output_type": "execute_result"
    }
   ],
   "source": [
    "max(df[\"RegisteredCapital\"])"
   ]
  },
  {
   "cell_type": "code",
   "execution_count": 393,
   "metadata": {},
   "outputs": [
    {
     "data": {
      "text/html": [
       "<div>\n",
       "<style scoped>\n",
       "    .dataframe tbody tr th:only-of-type {\n",
       "        vertical-align: middle;\n",
       "    }\n",
       "\n",
       "    .dataframe tbody tr th {\n",
       "        vertical-align: top;\n",
       "    }\n",
       "\n",
       "    .dataframe thead th {\n",
       "        text-align: right;\n",
       "    }\n",
       "</style>\n",
       "<table border=\"1\" class=\"dataframe\">\n",
       "  <thead>\n",
       "    <tr style=\"text-align: right;\">\n",
       "      <th></th>\n",
       "      <th>NumEmployees</th>\n",
       "      <th>RegisteredCapital</th>\n",
       "      <th>NumPeople</th>\n",
       "      <th>NumCars</th>\n",
       "      <th>DistanceToBusinessMeters</th>\n",
       "      <th>DistanceToBusinessDriveSeconds</th>\n",
       "    </tr>\n",
       "  </thead>\n",
       "  <tbody>\n",
       "    <tr>\n",
       "      <th>0</th>\n",
       "      <td>6</td>\n",
       "      <td>500000.0</td>\n",
       "      <td>1.0</td>\n",
       "      <td>6.0</td>\n",
       "      <td>3237.0</td>\n",
       "      <td>606.0</td>\n",
       "    </tr>\n",
       "    <tr>\n",
       "      <th>1</th>\n",
       "      <td>11</td>\n",
       "      <td>500000.0</td>\n",
       "      <td>1.0</td>\n",
       "      <td>0.0</td>\n",
       "      <td>696252.0</td>\n",
       "      <td>35422.0</td>\n",
       "    </tr>\n",
       "    <tr>\n",
       "      <th>2</th>\n",
       "      <td>61</td>\n",
       "      <td>1000000.0</td>\n",
       "      <td>0.0</td>\n",
       "      <td>6.0</td>\n",
       "      <td>383203.0</td>\n",
       "      <td>18336.0</td>\n",
       "    </tr>\n",
       "    <tr>\n",
       "      <th>3</th>\n",
       "      <td>37</td>\n",
       "      <td>3600000.0</td>\n",
       "      <td>0.0</td>\n",
       "      <td>0.0</td>\n",
       "      <td>30477.0</td>\n",
       "      <td>1455.0</td>\n",
       "    </tr>\n",
       "    <tr>\n",
       "      <th>4</th>\n",
       "      <td>63</td>\n",
       "      <td>7000000.0</td>\n",
       "      <td>NaN</td>\n",
       "      <td>NaN</td>\n",
       "      <td>NaN</td>\n",
       "      <td>NaN</td>\n",
       "    </tr>\n",
       "    <tr>\n",
       "      <th>...</th>\n",
       "      <td>...</td>\n",
       "      <td>...</td>\n",
       "      <td>...</td>\n",
       "      <td>...</td>\n",
       "      <td>...</td>\n",
       "      <td>...</td>\n",
       "    </tr>\n",
       "    <tr>\n",
       "      <th>2164</th>\n",
       "      <td>18</td>\n",
       "      <td>1000000.0</td>\n",
       "      <td>0.0</td>\n",
       "      <td>2.0</td>\n",
       "      <td>4973.0</td>\n",
       "      <td>554.0</td>\n",
       "    </tr>\n",
       "    <tr>\n",
       "      <th>2165</th>\n",
       "      <td>2</td>\n",
       "      <td>500000.0</td>\n",
       "      <td>0.0</td>\n",
       "      <td>2.0</td>\n",
       "      <td>15683.0</td>\n",
       "      <td>1169.0</td>\n",
       "    </tr>\n",
       "    <tr>\n",
       "      <th>2166</th>\n",
       "      <td>4</td>\n",
       "      <td>200000.0</td>\n",
       "      <td>0.0</td>\n",
       "      <td>4.0</td>\n",
       "      <td>1568078.0</td>\n",
       "      <td>64420.0</td>\n",
       "    </tr>\n",
       "    <tr>\n",
       "      <th>2167</th>\n",
       "      <td>5</td>\n",
       "      <td>500000.0</td>\n",
       "      <td>0.0</td>\n",
       "      <td>1.0</td>\n",
       "      <td>4805.0</td>\n",
       "      <td>544.0</td>\n",
       "    </tr>\n",
       "    <tr>\n",
       "      <th>2168</th>\n",
       "      <td>10</td>\n",
       "      <td>128000.0</td>\n",
       "      <td>0.0</td>\n",
       "      <td>20.0</td>\n",
       "      <td>11108.0</td>\n",
       "      <td>1356.0</td>\n",
       "    </tr>\n",
       "  </tbody>\n",
       "</table>\n",
       "<p>2169 rows × 6 columns</p>\n",
       "</div>"
      ],
      "text/plain": [
       "      NumEmployees  RegisteredCapital  NumPeople  NumCars  \\\n",
       "0                6           500000.0        1.0      6.0   \n",
       "1               11           500000.0        1.0      0.0   \n",
       "2               61          1000000.0        0.0      6.0   \n",
       "3               37          3600000.0        0.0      0.0   \n",
       "4               63          7000000.0        NaN      NaN   \n",
       "...            ...                ...        ...      ...   \n",
       "2164            18          1000000.0        0.0      2.0   \n",
       "2165             2           500000.0        0.0      2.0   \n",
       "2166             4           200000.0        0.0      4.0   \n",
       "2167             5           500000.0        0.0      1.0   \n",
       "2168            10           128000.0        0.0     20.0   \n",
       "\n",
       "      DistanceToBusinessMeters  DistanceToBusinessDriveSeconds  \n",
       "0                       3237.0                           606.0  \n",
       "1                     696252.0                         35422.0  \n",
       "2                     383203.0                         18336.0  \n",
       "3                      30477.0                          1455.0  \n",
       "4                          NaN                             NaN  \n",
       "...                        ...                             ...  \n",
       "2164                    4973.0                           554.0  \n",
       "2165                   15683.0                          1169.0  \n",
       "2166                 1568078.0                         64420.0  \n",
       "2167                    4805.0                           544.0  \n",
       "2168                   11108.0                          1356.0  \n",
       "\n",
       "[2169 rows x 6 columns]"
      ]
     },
     "execution_count": 393,
     "metadata": {},
     "output_type": "execute_result"
    }
   ],
   "source": [
    "df[['NumEmployees', 'RegisteredCapital', 'NumPeople', 'NumCars', 'DistanceToBusinessMeters', 'DistanceToBusinessDriveSeconds']]"
   ]
  },
  {
   "cell_type": "code",
   "execution_count": 395,
   "metadata": {},
   "outputs": [
    {
     "data": {
      "image/png": "[encoded data removed]",
      "text/plain": [
       "<Figure size 432x288 with 1 Axes>"
      ]
     },
     "metadata": {
      "needs_background": "light"
     },
     "output_type": "display_data"
    }
   ],
   "source": [
    "plt.hist(np.log(df[\"RegisteredCapital\"]))\n",
    "plt.show()"
   ]
  },
  {
   "cell_type": "code",
   "execution_count": 396,
   "metadata": {},
   "outputs": [
    {
     "name": "stdout",
     "output_type": "stream",
     "text": [
      "Summary statistics of RegisteredCapital in DKK for 2758 Companies:\n",
      "\tMin: 50001.0\n",
      "\tQ1: 125000.0\n",
      "\tMedian: 500000.0\n",
      "\tMean: 803442.8\n",
      "\tQ3: 625000.0\n",
      "\tMax: 9292139.0\n"
     ]
    }
   ],
   "source": [
    "#Function to print summary statistics of data\n",
    "def summ(X):\n",
    "    print(f\"\\tMin: {min(X)}\")\n",
    "    print(f\"\\tQ1: {np.percentile(X,[25,50,75])[0]}\")\n",
    "    print(f\"\\tMedian: {np.percentile(X,[25,50,75])[1]}\")\n",
    "    print(f\"\\tMean: {round(sum(X)/len(X),1)}\")    \n",
    "    print(f\"\\tQ3: {np.percentile(X,[25,50,75])[2]}\") \n",
    "    print(f\"\\tMax: {max(X)}\")\n",
    "print(\"Summary statistics of RegisteredCapital in DKK for 2758 Companies:\")\n",
    "summ(df[\"RegisteredCapital\"])"
   ]
  },
  {
   "cell_type": "code",
   "execution_count": 397,
   "metadata": {},
   "outputs": [
    {
     "name": "stderr",
     "output_type": "stream",
     "text": [
      "/home/julius/anaconda3/lib/python3.7/site-packages/ipykernel_launcher.py:5: SettingWithCopyWarning: \n",
      "A value is trying to be set on a copy of a slice from a DataFrame\n",
      "\n",
      "See the caveats in the documentation: https://pandas.pydata.org/pandas-docs/stable/user_guide/indexing.html#returning-a-view-versus-a-copy\n",
      "  \"\"\"\n",
      "/home/julius/anaconda3/lib/python3.7/site-packages/ipykernel_launcher.py:7: SettingWithCopyWarning: \n",
      "A value is trying to be set on a copy of a slice from a DataFrame\n",
      "\n",
      "See the caveats in the documentation: https://pandas.pydata.org/pandas-docs/stable/user_guide/indexing.html#returning-a-view-versus-a-copy\n",
      "  import sys\n"
     ]
    }
   ],
   "source": [
    "#Making a copy of the dataframe when changin \"nan\" to 0\n",
    "dfc=df.copy()\n",
    "for i in range(len(dfc)):\n",
    "    if str(dfc[\"NumPeople\"][i]) == \"nan\":\n",
    "        dfc[\"NumPeople\"][i] = 0\n",
    "    if str(dfc[\"NumCars\"][i]) == \"nan\":\n",
    "        dfc[\"NumCars\"][i] = 0"
   ]
  },
  {
   "cell_type": "markdown",
   "metadata": {},
   "source": [
    "## Sci-kit Learn used to analyse the data and create predictors"
   ]
  },
  {
   "cell_type": "code",
   "execution_count": 398,
   "metadata": {},
   "outputs": [],
   "source": [
    "from sklearn.linear_model import LinearRegression as Linear\n",
    "from sklearn.preprocessing import RobustScaler\n",
    "from sklearn.linear_model import LogisticRegression as Logistic\n",
    "from sklearn.discriminant_analysis import LinearDiscriminantAnalysis as LDA\n",
    "from sklearn.metrics import f1_score\n",
    "from sklearn.metrics import precision_score\n",
    "from sklearn.metrics import recall_score"
   ]
  },
  {
   "cell_type": "code",
   "execution_count": 399,
   "metadata": {},
   "outputs": [],
   "source": [
    "objects = dfc[[\"NumPeople\",\"NumCars\"]]\n",
    "regcap = df[\"RegisteredCapital\"]"
   ]
  },
  {
   "cell_type": "code",
   "execution_count": 400,
   "metadata": {},
   "outputs": [
    {
     "name": "stdout",
     "output_type": "stream",
     "text": [
      "1184643895.38 559023565.97 1742667461.35 0.6797876942410382\n",
      "434 1736 0.2000922083909636 0.8003688335638544\n"
     ]
    }
   ],
   "source": [
    "XY=pd.DataFrame(list(zip(objects[\"NumCars\"],objects[\"NumPeople\"],regcap)))\n",
    "XY.columns =['NumCars', 'NumPeople', 'RegisteredCapital']\n",
    "XY=XY.sort_values(by=\"RegisteredCapital\",ignore_index=True)\n",
    "p20=XY.loc[round(len(XY)*0.8):]\n",
    "p80=XY.loc[:round(len(XY)*0.8)]\n",
    "print(p20[\"RegisteredCapital\"].sum(),p80[\"RegisteredCapital\"].sum(),XY[\"RegisteredCapital\"].sum(),p20[\"RegisteredCapital\"].sum()/XY[\"RegisteredCapital\"].sum())\n",
    "print(len(p20),len(p80),len(p20)/len(XY),len(p80)/len(XY))"
   ]
  },
  {
   "cell_type": "code",
   "execution_count": 401,
   "metadata": {},
   "outputs": [
    {
     "name": "stdout",
     "output_type": "stream",
     "text": [
      "0.6795758414015676\n"
     ]
    }
   ],
   "source": [
    "#Define wealthy company as >500000\n",
    "wealthy=[int]*len(regcap)\n",
    "for i,cap in enumerate(regcap):\n",
    "    if cap > 500000:\n",
    "        wealthy[i]=1\n",
    "    else:\n",
    "        wealthy[i]=0\n",
    "print((len(wealthy)-len([n for n in wealthy if n==1]))/len(wealthy))"
   ]
  },
  {
   "cell_type": "code",
   "execution_count": 402,
   "metadata": {},
   "outputs": [
    {
     "data": {
      "text/plain": [
       "695"
      ]
     },
     "execution_count": 402,
     "metadata": {},
     "output_type": "execute_result"
    }
   ],
   "source": [
    "len([n for n in wealthy if n==1])"
   ]
  },
  {
   "cell_type": "code",
   "execution_count": 403,
   "metadata": {},
   "outputs": [],
   "source": [
    "#Robust transformation\n",
    "median_x = np.percentile(regcap,[25,50,75])[1]\n",
    "q1 = np.percentile(regcap,[25,50,75])[0]\n",
    "q3 = np.percentile(regcap,[25,50,75])[2]\n",
    "regcap_T=[np.float64]*len(regcap)\n",
    "\n",
    "for i in range(len(regcap)):\n",
    "    regcap_T[i]=(regcap[i]-median_x)/(q3-q1)"
   ]
  },
  {
   "cell_type": "code",
   "execution_count": 404,
   "metadata": {},
   "outputs": [
    {
     "name": "stdout",
     "output_type": "stream",
     "text": [
      "\tMin: -0.899998\n",
      "\tQ1: -0.75\n",
      "\tMedian: 0.0\n",
      "\tMean: 0.6\n",
      "\tQ3: 0.25\n",
      "\tMax: 17.584278\n"
     ]
    }
   ],
   "source": [
    "summ(regcap_T)"
   ]
  },
  {
   "cell_type": "code",
   "execution_count": 407,
   "metadata": {
    "scrolled": true
   },
   "outputs": [
    {
     "name": "stdout",
     "output_type": "stream",
     "text": [
      "0.007810885758320896\n",
      "f1: 0.4792758456407814\n",
      "p: 0.35826210826210825\n",
      "r: 0.7237410071942446\n",
      "0.49608114338404796\n",
      "0.6795758414015676\n"
     ]
    },
    {
     "name": "stderr",
     "output_type": "stream",
     "text": [
      "/home/julius/anaconda3/lib/python3.7/site-packages/sklearn/linear_model/logistic.py:432: FutureWarning: Default solver will be changed to 'lbfgs' in 0.22. Specify a solver to silence this warning.\n",
      "  FutureWarning)\n"
     ]
    }
   ],
   "source": [
    "#Linear regression on registere capital, logistic and Linear Discriminant Analysis for classifiers\n",
    "reg = Linear()\n",
    "reg.fit(objects,regcap_T)\n",
    "print(reg.score(objects,regcap_T))\n",
    "def mls(x,y):\n",
    "    log = Logistic(class_weight=\"balanced\")\n",
    "    log.fit(x,y)\n",
    "    print(f\"f1: {f1_score(y,log.predict(x))}\")\n",
    "    print(f\"p: {precision_score(y,log.predict(x))}\")\n",
    "    print(f\"r: {recall_score(y,log.predict(x))}\")\n",
    "    print(log.score(x,y))\n",
    "    lda=LDA()\n",
    "    lda.fit(x,y)\n",
    "    ldx=lda.transform(x)\n",
    "    print(lda.score(x,y))\n",
    "mls(objects[[\"NumCars\",\"NumPeople\"]],wealthy)"
   ]
  },
  {
   "cell_type": "code",
   "execution_count": 408,
   "metadata": {},
   "outputs": [
    {
     "name": "stdout",
     "output_type": "stream",
     "text": [
      "1.0\n",
      "0\n",
      "1474\n"
     ]
    }
   ],
   "source": [
    "print(objects[\"NumPeople\"][0])\n",
    "print(wealthy[0])\n",
    "print(len([a[0] for a in zip(objects[\"NumPeople\"],wealthy) if a[1]==0]))"
   ]
  },
  {
   "cell_type": "code",
   "execution_count": null,
   "metadata": {},
   "outputs": [],
   "source": []
  },
  {
   "cell_type": "code",
   "execution_count": 295,
   "metadata": {},
   "outputs": [
    {
     "data": {
      "image/png": "[encoded data removed]",
      "text/plain": [
       "<Figure size 432x288 with 1 Axes>"
      ]
     },
     "metadata": {
      "needs_background": "light"
     },
     "output_type": "display_data"
    }
   ],
   "source": [
    "fig,ax=plt.subplots()\n",
    "ax.scatter([a[0] for a in zip(objects[\"NumPeople\"],wealthy) if a[1]==1],[a[0] for a in zip(objects[\"NumCars\"],wealthy) if a[1]==1],c=\"tab:red\",label=\"Wealthy\")\n",
    "ax.scatter([a[0] for a in zip(objects[\"NumPeople\"],wealthy) if a[1]==0],[a[0] for a in zip(objects[\"NumCars\"],wealthy) if a[1]==0],c=\"tab:blue\",label=\"Not wealthy\")\n",
    "ax.legend()\n",
    "ax.set_xlabel(\"People\",size=20)\n",
    "ax.set_ylabel(\"Cars\",size=20)\n",
    "plt.show()"
   ]
  },
  {
   "cell_type": "code",
   "execution_count": 301,
   "metadata": {},
   "outputs": [],
   "source": [
    "objects=pd.DataFrame(list(zip(objects[\"NumCars\"],objects[\"NumPeople\"],wealthy)))\n",
    "objects.columns =['NumCars', 'NumPeople', 'Wealthy']\n",
    "def splitter(obje):\n",
    "    obj=[]\n",
    "    obj.append(obje[(obje[\"NumCars\"]<6) & (obje[\"NumPeople\"]<6)])\n",
    "    obj.append(obje[(obje[\"NumCars\"]<6) & (obje[\"NumPeople\"]>5) & (obje[\"NumPeople\"]<11)])\n",
    "    obj.append(obje[(obje[\"NumCars\"]<6) & (obje[\"NumPeople\"]>10) & (obje[\"NumPeople\"]<15)])\n",
    "    obj.append(obje[(obje[\"NumCars\"]>5) & (obje[\"NumCars\"]<11) & (obje[\"NumPeople\"]<6)])\n",
    "    obj.append(obje[(obje[\"NumCars\"]>5) & (obje[\"NumCars\"]<11) & (obje[\"NumPeople\"]>5) & (obje[\"NumPeople\"]<11)])\n",
    "    obj.append(obje[(obje[\"NumCars\"]>5) & (obje[\"NumCars\"]<11) & (obje[\"NumPeople\"]>10) & (obje[\"NumPeople\"]<15)])\n",
    "    obj.append(obje[(obje[\"NumCars\"]>10) & (obje[\"NumCars\"]<16) & (obje[\"NumPeople\"]<6)])\n",
    "    obj.append(obje[(obje[\"NumCars\"]>10) & (obje[\"NumCars\"]<16) & (obje[\"NumPeople\"]>5) & (obje[\"NumPeople\"]<11)])\n",
    "    obj.append(obje[(obje[\"NumCars\"]>10) & (obje[\"NumCars\"]<16) & (obje[\"NumPeople\"]>10) & (obje[\"NumPeople\"]<15)])\n",
    "    obj.append(obje[(obje[\"NumCars\"]>15) & (obje[\"NumCars\"]<21) & (obje[\"NumPeople\"]<6)])\n",
    "    obj.append(obje[(obje[\"NumCars\"]>15) & (obje[\"NumCars\"]<21) & (obje[\"NumPeople\"]>5) & (obje[\"NumPeople\"]<11)])\n",
    "    obj.append(obje[(obje[\"NumCars\"]>15) & (obje[\"NumCars\"]<21) & (obje[\"NumPeople\"]>10) & (obje[\"NumPeople\"]<15)])\n",
    "    obj.append(obje[(obje[\"NumCars\"]>20) & (obje[\"NumCars\"]<26) & (obje[\"NumPeople\"]<6)])\n",
    "    obj.append(obje[(obje[\"NumCars\"]>20) & (obje[\"NumCars\"]<26) & (obje[\"NumPeople\"]>5) & (obje[\"NumPeople\"]<11)])\n",
    "    obj.append(obje[(obje[\"NumCars\"]>20) & (obje[\"NumCars\"]<26) & (obje[\"NumPeople\"]>10) & (obje[\"NumPeople\"]<15)])\n",
    "    obj.append(obje[(obje[\"NumCars\"]>25) & (obje[\"NumCars\"]<31) & (obje[\"NumPeople\"]<6)])\n",
    "    obj.append(obje[(obje[\"NumCars\"]>25) & (obje[\"NumCars\"]<31) & (obje[\"NumPeople\"]>5) & (obje[\"NumPeople\"]<11)])\n",
    "    obj.append(obje[(obje[\"NumCars\"]>25) & (obje[\"NumCars\"]<31) & (obje[\"NumPeople\"]>10) & (obje[\"NumPeople\"]<15)])\n",
    "    obj.append(obje[(obje[\"NumCars\"]>30) & (obje[\"NumCars\"]<37) & (obje[\"NumPeople\"]<6)])\n",
    "    obj.append(obje[(obje[\"NumCars\"]>30) & (obje[\"NumCars\"]<37) & (obje[\"NumPeople\"]>5) & (obje[\"NumPeople\"]<11)])\n",
    "    obj.append(obje[(obje[\"NumCars\"]>30) & (obje[\"NumCars\"]<37) & (obje[\"NumPeople\"]>10) & (obje[\"NumPeople\"]<15)])\n",
    "    return obj"
   ]
  },
  {
   "cell_type": "code",
   "execution_count": 298,
   "metadata": {},
   "outputs": [
    {
     "data": {
      "text/plain": [
       "61"
      ]
     },
     "execution_count": 298,
     "metadata": {},
     "output_type": "execute_result"
    }
   ],
   "source": [
    "len(obj[12])\n",
    "#len(objects[(objects[\"NumCars\"]>20)])# & (objects[\"NumPeople\"]<26)])# & (objects[\"NumCars\"]<6)])"
   ]
  },
  {
   "cell_type": "code",
   "execution_count": 313,
   "metadata": {},
   "outputs": [],
   "source": [
    "value=[]\n",
    "obj=splitter(objects)\n",
    "for o in obj:\n",
    "    if len(o)==0:\n",
    "        value.append(o[\"Wealthy\"].sum())\n",
    "    else:\n",
    "        value.append(o[\"Wealthy\"].sum()/len(o))"
   ]
  },
  {
   "cell_type": "code",
   "execution_count": 410,
   "metadata": {},
   "outputs": [
    {
     "name": "stdout",
     "output_type": "stream",
     "text": [
      "\tMin: 0.0\n",
      "\tQ1: 0.0\n",
      "\tMedian: 0.0\n",
      "\tMean: 0.4\n",
      "\tQ3: 0.0\n",
      "\tMax: 14.0\n",
      "\n",
      "\tMin: 0.0\n",
      "\tQ1: 0.0\n",
      "\tMedian: 2.0\n",
      "\tMean: 4.5\n",
      "\tQ3: 6.0\n",
      "\tMax: 33.0\n"
     ]
    }
   ],
   "source": [
    "summ(objects[\"NumPeople\"])\n",
    "print(\"\")\n",
    "summ(objects[\"NumCars\"])"
   ]
  },
  {
   "cell_type": "code",
   "execution_count": 413,
   "metadata": {},
   "outputs": [
    {
     "data": {
      "text/plain": [
       "0.28722913785154447"
      ]
     },
     "execution_count": 413,
     "metadata": {},
     "output_type": "execute_result"
    }
   ],
   "source": [
    "objects2=pd.DataFrame(list(zip(objects[\"NumCars\"],objects[\"NumPeople\"],wealthy)))\n",
    "objects2.columns =['NumCars', 'NumPeople', 'Wealthy']\n",
    "objects2=objects2.loc[(objects2[\"NumPeople\"]!=0) | (objects2[\"NumCars\"]!=0)]\n",
    "1-len(objects2)/len(objects)"
   ]
  },
  {
   "cell_type": "code",
   "execution_count": 414,
   "metadata": {},
   "outputs": [
    {
     "name": "stdout",
     "output_type": "stream",
     "text": [
      "\tMin: 0.0\n",
      "\tQ1: 0.0\n",
      "\tMedian: 0.0\n",
      "\tMean: 0.6\n",
      "\tQ3: 1.0\n",
      "\tMax: 14.0\n",
      "\n",
      "\tMin: 0.0\n",
      "\tQ1: 2.0\n",
      "\tMedian: 4.0\n",
      "\tMean: 6.4\n",
      "\tQ3: 9.0\n",
      "\tMax: 33.0\n"
     ]
    }
   ],
   "source": [
    "summ(objects2[\"NumPeople\"])\n",
    "print(\"\")\n",
    "summ(objects2[\"NumCars\"])"
   ]
  },
  {
   "cell_type": "code",
   "execution_count": 416,
   "metadata": {},
   "outputs": [
    {
     "name": "stdout",
     "output_type": "stream",
     "text": [
      "f1: 0.46758620689655167\n",
      "p: 0.3445121951219512\n",
      "r: 0.7274678111587983\n",
      "0.500646830530401\n",
      "0.6985769728331177\n"
     ]
    },
    {
     "name": "stderr",
     "output_type": "stream",
     "text": [
      "/home/julius/anaconda3/lib/python3.7/site-packages/sklearn/linear_model/logistic.py:432: FutureWarning: Default solver will be changed to 'lbfgs' in 0.22. Specify a solver to silence this warning.\n",
      "  FutureWarning)\n"
     ]
    }
   ],
   "source": [
    "#Linear regression on registere capital, logistic and Linear Discriminant Analysis for classifiers\n",
    "X = objects2[[\"NumCars\",\"NumPeople\"]]\n",
    "Y = objects2[\"Wealthy\"]\n",
    "mls(X,Y)"
   ]
  },
  {
   "cell_type": "markdown",
   "metadata": {},
   "source": [
    "## Different Threshholds"
   ]
  },
  {
   "cell_type": "code",
   "execution_count": 430,
   "metadata": {},
   "outputs": [
    {
     "name": "stdout",
     "output_type": "stream",
     "text": [
      "0.3988012909174735 1304\n",
      "0.8464730290456431 333\n"
     ]
    }
   ],
   "source": [
    "wealthy2=[int]*len(regcap)\n",
    "for i,cap in enumerate(regcap):\n",
    "    if cap > 200000:\n",
    "        wealthy2[i]=1\n",
    "    else:\n",
    "        wealthy2[i]=0\n",
    "print((len(wealthy2)-len([n for n in wealthy2 if n==1]))/len(wealthy2),len([n for n in wealthy2 if n==1]))\n",
    "\n",
    "wealthy3=[int]*len(regcap)\n",
    "for i,cap in enumerate(regcap):\n",
    "    if cap > 1000000:\n",
    "        wealthy3[i]=1\n",
    "    else:\n",
    "        wealthy3[i]=0\n",
    "print((len(wealthy3)-len([n for n in wealthy3 if n==1]))/len(wealthy3),len([n for n in wealthy3 if n==1]))\n",
    "\n",
    "#wealthy4=[int]*len(regcap)\n",
    "#for i,cap in enumerate(regcap):\n",
    "#    if cap > 100000000:\n",
    "#        wealthy4[i]=1\n",
    "#    else:\n",
    "#        wealthy4[i]=0\n",
    "#print((len(wealthy4)-len([n for n in wealthy4 if n==1]))/len(wealthy4),len([n for n in wealthy4 if n==1]))"
   ]
  },
  {
   "cell_type": "code",
   "execution_count": 435,
   "metadata": {},
   "outputs": [
    {
     "name": "stdout",
     "output_type": "stream",
     "text": [
      "0.15352697095435686\n"
     ]
    }
   ],
   "source": [
    "print(len([a for a in wealthy3 if a == 1])/len(wealthy3))"
   ]
  },
  {
   "cell_type": "code",
   "execution_count": 433,
   "metadata": {},
   "outputs": [
    {
     "name": "stdout",
     "output_type": "stream",
     "text": [
      "200000:\n",
      "f1: 0.6806992508027113\n",
      "p: 0.6364242828552368\n",
      "r: 0.7315950920245399\n",
      "0.5873674504379899\n",
      "0.6164130935915169\n",
      "1000000:\n",
      "f1: 0.27755568246716167\n",
      "p: 0.17136812411847674\n",
      "r: 0.7297297297297297\n",
      "0.41678192715537116\n",
      "0.8464730290456431\n"
     ]
    },
    {
     "name": "stderr",
     "output_type": "stream",
     "text": [
      "/home/julius/anaconda3/lib/python3.7/site-packages/sklearn/linear_model/logistic.py:432: FutureWarning: Default solver will be changed to 'lbfgs' in 0.22. Specify a solver to silence this warning.\n",
      "  FutureWarning)\n",
      "/home/julius/anaconda3/lib/python3.7/site-packages/sklearn/linear_model/logistic.py:432: FutureWarning: Default solver will be changed to 'lbfgs' in 0.22. Specify a solver to silence this warning.\n",
      "  FutureWarning)\n"
     ]
    }
   ],
   "source": [
    "print(\"200000:\")\n",
    "mls(objects[[\"NumCars\",\"NumPeople\"]],wealthy2)\n",
    "print(\"1000000:\")\n",
    "mls(objects[[\"NumCars\",\"NumPeople\"]],wealthy3)\n",
    "#print(\"100000000:\")\n",
    "#mls(objects[[\"NumCars\",\"NumPeople\"]],wealthy4)"
   ]
  },
  {
   "cell_type": "code",
   "execution_count": 436,
   "metadata": {},
   "outputs": [],
   "source": [
    "objects3=pd.DataFrame(list(zip(objects[\"NumCars\"],objects[\"NumPeople\"],wealthy2)))\n",
    "objects3.columns =['NumCars', 'NumPeople', 'Wealthy']"
   ]
  },
  {
   "cell_type": "code",
   "execution_count": 437,
   "metadata": {},
   "outputs": [],
   "source": [
    "value2=[]\n",
    "obj=splitter(objects3)\n",
    "for o in obj:\n",
    "    if len(o)==0:\n",
    "        value2.append(o[\"Wealthy\"].sum())\n",
    "    else:\n",
    "        value2.append(o[\"Wealthy\"].sum()/len(o))"
   ]
  },
  {
   "cell_type": "code",
   "execution_count": 438,
   "metadata": {},
   "outputs": [
    {
     "data": {
      "image/png": "[encoded data removed]",
      "text/plain": [
       "<Figure size 432x288 with 2 Axes>"
      ]
     },
     "metadata": {
      "needs_background": "light"
     },
     "output_type": "display_data"
    }
   ],
   "source": [
    "People = [\"0-5\", \"6-10\", \"11-15\", \"16-20\", \"21-25\", \"26-30\", \"31-36\"]\n",
    "People.reverse()\n",
    "Cars = [\"0-5\", \"6-10\", \"11-14\"]\n",
    "\n",
    "vlue = []\n",
    "for i in range(7):\n",
    "    v=[]\n",
    "    for j in range(3):\n",
    "        v.append(round(value2[i*3+j],2))\n",
    "    vlue.append(v)\n",
    "vlue.reverse()\n",
    "vlue = np.array(vlue,dtype=np.float)\n",
    "\n",
    "fig, (ax1, ax2) = plt.subplots(1,2)\n",
    "im = ax1.imshow(vlue,cmap=\"Greens\")\n",
    "# Show all ticks and label them with the respective list entries\n",
    "ax1.set_xticks(np.arange(len(Cars)))\n",
    "ax1.set_yticks(np.arange(len(People)))\n",
    "\n",
    "ax1.set_xticklabels(Cars)\n",
    "ax1.set_yticklabels(People)\n",
    "ax1.set_xlabel(\"Cars\", size=15)\n",
    "ax1.set_ylabel(\"People\", size=17)\n",
    "\n",
    "# Rotate the tick labels and set their alignment.\n",
    "plt.setp(ax1.get_xticklabels(), rotation=45, ha=\"right\",\n",
    "         rotation_mode=\"anchor\")\n",
    "\n",
    "# Loop over data dimensions and create text annotations.\n",
    "for i in range(len(People)):\n",
    "    for j in range(len(Cars)):\n",
    "        text = ax1.text(j, i, vlue[i, j],\n",
    "                       ha=\"center\", va=\"center\", color=\"black\")\n",
    "\n",
    "ax1.set_title(\"Threshold: 200,000\", size=15)\n",
    "\n",
    "vlue = []\n",
    "for i in range(7):\n",
    "    v=[]\n",
    "    for j in range(3):\n",
    "        v.append(round(value[i*3+j],2))\n",
    "    vlue.append(v)\n",
    "vlue.reverse()\n",
    "vlue = np.array(vlue,dtype=np.float)\n",
    "\n",
    "#fig, ax = plt.subplots()\n",
    "im = ax2.imshow(vlue,cmap=\"Greens\")\n",
    "\n",
    "# Show all ticks and label them with the respective list entries\n",
    "ax2.set_xticks(np.arange(len(Cars)))\n",
    "ax2.set_yticks(np.arange(len(People)))\n",
    "\n",
    "ax2.set_xticklabels(Cars)\n",
    "ax2.set_yticklabels(People)\n",
    "ax2.set_xlabel(\"Cars\", size=15)\n",
    "\n",
    "# Rotate the tick labels and set their alignment.\n",
    "plt.setp(ax2.get_xticklabels(), rotation=45, ha=\"right\",\n",
    "         rotation_mode=\"anchor\")\n",
    "\n",
    "# Loop over data dimensions and create text annotations.\n",
    "for i in range(len(People)):\n",
    "    for j in range(len(Cars)):\n",
    "        text = ax2.text(j, i, vlue[i, j],\n",
    "                       ha=\"center\", va=\"center\", color=\"black\")\n",
    "\n",
    "ax2.set_title(\"Threshold: 500,000\", size=15)\n",
    "plt.show()"
   ]
  },
  {
   "cell_type": "code",
   "execution_count": 445,
   "metadata": {},
   "outputs": [
    {
     "name": "stdout",
     "output_type": "stream",
     "text": [
      "0.3204241585984325\n",
      "0.6011987090825265\n"
     ]
    }
   ],
   "source": [
    "print(len([a for a in wealthy if a == 1])/len(wealthy))\n",
    "print(len([a for a in wealthy2 if a == 1])/len(wealthy2))"
   ]
  },
  {
   "cell_type": "markdown",
   "metadata": {},
   "source": [
    "# Ignore"
   ]
  },
  {
   "cell_type": "code",
   "execution_count": 82,
   "metadata": {},
   "outputs": [
    {
     "name": "stdout",
     "output_type": "stream",
     "text": [
      "0.1935483870967742\n",
      "0.212253829321663\n",
      "0.2261904761904762\n",
      "0.3243445692883895\n",
      "\n",
      "62\n",
      "457\n",
      "84\n",
      "1335\n"
     ]
    }
   ],
   "source": [
    "aa=objects2[objects2[\"NumCars\"]>8]\n",
    "aa=aa[aa[\"NumPeople\"]>2]\n",
    "ab=objects2[objects2[\"NumCars\"]>8]\n",
    "ab=ab[ab[\"NumPeople\"]<=2]\n",
    "ba=objects2[objects2[\"NumCars\"]<=8]\n",
    "ba=ba[ba[\"NumPeople\"]>2]\n",
    "bb=objects2[objects2[\"NumCars\"]<=8]\n",
    "bb=bb[bb[\"NumPeople\"]<=2]\n",
    "print(len(aa[aa[\"Wealthy\"]==1])/len(aa))\n",
    "print(len(ab[ab[\"Wealthy\"]==1])/len(ab))\n",
    "print(len(ba[ba[\"Wealthy\"]==1])/len(ba))\n",
    "print(len(bb[bb[\"Wealthy\"]==1])/len(bb))\n",
    "print(\"\")\n",
    "print(len(aa))\n",
    "print(len(ab))\n",
    "print(len(ba))\n",
    "print(len(bb))"
   ]
  },
  {
   "cell_type": "code",
   "execution_count": 83,
   "metadata": {},
   "outputs": [
    {
     "name": "stdout",
     "output_type": "stream",
     "text": [
      "0.2417910447761194\n",
      "0.2782608695652174\n",
      "0.3028571428571429\n",
      "0.3467297084318361\n",
      "\n",
      "335\n",
      "920\n",
      "175\n",
      "1269\n"
     ]
    }
   ],
   "source": [
    "objects3=pd.DataFrame(list(zip(objects[\"NumCars\"],objects[\"NumPeople\"],wealthy)))\n",
    "objects3.columns =['NumCars', 'NumPeople', 'Wealthy']\n",
    "aa=objects3[objects3[\"NumCars\"]>2]\n",
    "aa=aa[aa[\"NumPeople\"]>0]\n",
    "ab=objects3[objects3[\"NumCars\"]>2]\n",
    "ab=ab[ab[\"NumPeople\"]<=0]\n",
    "ba=objects3[objects3[\"NumCars\"]<=2]\n",
    "ba=ba[ba[\"NumPeople\"]>0]\n",
    "bb=objects3[objects3[\"NumCars\"]<=2]\n",
    "bb=bb[bb[\"NumPeople\"]<=0]\n",
    "print(len(aa[aa[\"Wealthy\"]==1])/len(aa))\n",
    "print(len(ab[ab[\"Wealthy\"]==1])/len(ab))\n",
    "print(len(ba[ba[\"Wealthy\"]==1])/len(ba))\n",
    "print(len(bb[bb[\"Wealthy\"]==1])/len(bb))\n",
    "print(\"\")\n",
    "print(len(aa))\n",
    "print(len(ab))\n",
    "print(len(ba))\n",
    "print(len(bb))"
   ]
  }
 ],
 "metadata": {
  "kernelspec": {
   "display_name": "Python 3",
   "language": "python",
   "name": "python3"
  },
  "language_info": {
   "codemirror_mode": {
    "name": "ipython",
    "version": 3
   },
   "file_extension": ".py",
   "mimetype": "text/x-python",
   "name": "python",
   "nbconvert_exporter": "python",
   "pygments_lexer": "ipython3",
   "version": "3.7.3"
  }
 },
 "nbformat": 4,
 "nbformat_minor": 5
}
